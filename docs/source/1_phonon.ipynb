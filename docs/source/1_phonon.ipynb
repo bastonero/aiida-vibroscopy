{
 "cells": [
  {
   "attachments": {},
   "cell_type": "markdown",
   "metadata": {},
   "source": [
    "\n",
    "(tutorials-phonon)=\n",
    "\n",
    "# Phonon band structure of Si\n",
    "\n",
    "In this tutorial you will learn how to calculate the phonon band structure of silicon step by step using `aiida-vibroscopy`.\n",
    "\n",
    "In this tutorial we will make use of the silicon structure to give you an overall understanding of the usage of the package.\n",
    "If you are interested in more advanced features, please have a look at the [other tutorials](tutorials).\n",
    "\n",
    "Let's get started!"
   ]
  },
  {
   "attachments": {},
   "cell_type": "markdown",
   "metadata": {},
   "source": [
    "\n",
    "## Frozen phonons\n",
    "\n",
    "In the harmonic and Born-Oppenheimer approximation, phonons are defined as second order derivatives of the potential energy surface (PES).\n",
    "These derivatives can be evaluated numerically around the equilibrium point $ \\{ \\mathbf{R}_0 \\} $ (i.e. relaxed ions) displacing the atoms along the three Cartesian directions. The second derivatives become first derivatives when using forces, and one can use the following formula:\n",
    "\n",
    "\\begin{equation}\n",
    "\\left .\n",
    "\\frac{\\partial f(x)}{\\partial x}\n",
    "\\right |_{x=0}\n",
    "\\approx \n",
    "\\frac{1}{2h} \n",
    "(f(h)-f(-h))\n",
    "+ \\mathcal{O}(h^2)\n",
    "\\end{equation} \n",
    "\n",
    "The $h$ is then the finite displacement of the atom from the relaxed position. Usually, good values are 0.01-0.005 Å. The default in the package is 0.01 Å.\n",
    "\n",
    "This technique of computing the force constants matrix is usually referred to as __frozen phonons__ (or also __small displacements__).\n",
    "\n",
    ":::{note}\n",
    "One should verify that the phonon frequencies do not change within the desired threshold when change the value of $h$.\n",
    ":::"
   ]
  },
  {
   "cell_type": "code",
   "execution_count": 1,
   "metadata": {
    "tags": [
     "hide-cell"
    ]
   },
   "outputs": [],
   "source": [
    "from local_module import load_temp_profile\n",
    "\n",
    "# If you download this file, you can run it with your own profile.\n",
    "# Put these lines instead:\n",
    "# from aiida import load_profile\n",
    "# load_profile()\n",
    "data = load_temp_profile(\n",
    "    name=\"phonon-tutorial\",\n",
    "    add_computer=True,\n",
    "    add_pw_code=True,\n",
    "    add_phonopy_code=True,\n",
    "    add_sssp=True,\n",
    ")"
   ]
  },
  {
   "attachments": {},
   "cell_type": "markdown",
   "metadata": {},
   "source": [
    "### Importing the structure from COD\n",
    "\n",
    "Let's import the silicon structure from the COD database via AiiDA."
   ]
  },
  {
   "cell_type": "code",
   "execution_count": 2,
   "metadata": {},
   "outputs": [],
   "source": [
    "from aiida.plugins import DbImporterFactory\n",
    "\n",
    "CodDbImporter = DbImporterFactory('cod')\n",
    "\n",
    "cod = CodDbImporter()\n",
    "results = cod.query(id='1526655') # Si   1526655\n",
    "structure = results[0].get_aiida_structure() # it has 8 atoms"
   ]
  },
  {
   "attachments": {},
   "cell_type": "markdown",
   "metadata": {},
   "source": [
    "\n",
    "## The `PhononWorkChain`\n",
    "\n",
    "To compute the phonons, then one need to displace all the (non equivalent by symmetry) atoms along the (non equivalent by symmetry) Cartesian directions. As phonons are related to collective ionic motions, this methods needs __supercells__ in order to account for patterns that live outside the unitcell.\n",
    "\n",
    ":::{note}\n",
    ":class: dropdown\n",
    "\n",
    "Not all patterns can be computed using the frozen phonon approach, as too large supercells would be required. An implementation that would make this possible is the __linear response__ method (DFPT). Usually this is a more efficient approach, but its implementation is non-trivial and involved, hence only few codes have this method implemented. Quantum ESPRESSO can carry out such simulations using the __PHonon__ code (`ph.x` routine). Nevertheless, not all functionals are implemented. For example, DFT+U(+V) using ortho-atomic projectors is not implemented.\n",
    ":::\n",
    "\n",
    "Let's import the WorkChain and run it! We use the `get_builder_from_protocol` to get a __prefilled__ builder with __all inputs__. These inputs should be considered __not as converged parameters__, but as a good starting point. You may also need to tweak some parameters, e.g. add magnetization etc., depending on your case. "
   ]
  },
  {
   "cell_type": "code",
   "execution_count": 3,
   "metadata": {
    "tags": [
     "hide-output"
    ]
   },
   "outputs": [
    {
     "name": "stderr",
     "output_type": "stream",
     "text": [
      "05/24/2023 11:02:00 AM <4148537> aiida.engine.processes.functions: [WARNING] function `generate_preprocess_data` has invalid type hints: unsupported operand type(s) for |: 'AbstractNodeMeta' and 'NoneType'\n",
      "05/24/2023 11:02:00 AM <4148537> aiida.engine.processes.functions: [WARNING] function `generate_phonopy_data` has invalid type hints: unsupported operand type(s) for |: 'AbstractNodeMeta' and 'NoneType'\n",
      "05/24/2023 11:02:00 AM <4148537> aiida.orm.nodes.process.workflow.workchain.WorkChainNode: [REPORT] [100|PhononWorkChain|run_base_supercell]: launching base supercell scf PwBaseWorkChain<108>\n",
      "05/24/2023 11:02:01 AM <4148537> aiida.orm.nodes.process.workflow.workchain.WorkChainNode: [REPORT] [108|PwBaseWorkChain|run_process]: launching PwCalculation<111> iteration #1\n",
      "05/24/2023 11:02:07 AM <4148537> aiida.orm.nodes.process.workflow.workchain.WorkChainNode: [REPORT] [108|PwBaseWorkChain|sanity_check_insufficient_bands]: PwCalculation<111> run with smearing and highest band is occupied\n",
      "05/24/2023 11:02:07 AM <4148537> aiida.orm.nodes.process.workflow.workchain.WorkChainNode: [REPORT] [108|PwBaseWorkChain|sanity_check_insufficient_bands]: BandsData<114> has invalid occupations: Occupation of 0.009307178050842801 at last band lkn<0,0,20>\n",
      "05/24/2023 11:02:07 AM <4148537> aiida.orm.nodes.process.workflow.workchain.WorkChainNode: [REPORT] [108|PwBaseWorkChain|sanity_check_insufficient_bands]: PwCalculation<111> had insufficient bands\n",
      "05/24/2023 11:02:07 AM <4148537> aiida.orm.nodes.process.workflow.workchain.WorkChainNode: [REPORT] [108|PwBaseWorkChain|sanity_check_insufficient_bands]: Action taken: increased number of bands to 24 and restarting from the previous charge density.\n",
      "05/24/2023 11:02:07 AM <4148537> aiida.orm.nodes.process.workflow.workchain.WorkChainNode: [REPORT] [108|PwBaseWorkChain|inspect_process]: PwCalculation<111> finished successfully but a handler was triggered, restarting\n",
      "05/24/2023 11:02:07 AM <4148537> aiida.orm.nodes.process.workflow.workchain.WorkChainNode: [REPORT] [108|PwBaseWorkChain|run_process]: launching PwCalculation<119> iteration #2\n",
      "05/24/2023 11:02:13 AM <4148537> aiida.orm.nodes.process.workflow.workchain.WorkChainNode: [REPORT] [108|PwBaseWorkChain|results]: work chain completed after 2 iterations\n",
      "05/24/2023 11:02:14 AM <4148537> aiida.orm.nodes.process.workflow.workchain.WorkChainNode: [REPORT] [108|PwBaseWorkChain|on_terminated]: remote folders will not be cleaned\n",
      "05/24/2023 11:02:14 AM <4148537> aiida.orm.nodes.process.workflow.workchain.WorkChainNode: [REPORT] [100|PhononWorkChain|run_forces]: submitting `PwBaseWorkChain` <PK=128> with supercell n.o 1\n",
      "05/24/2023 11:02:16 AM <4148537> aiida.orm.nodes.process.workflow.workchain.WorkChainNode: [REPORT] [128|PwBaseWorkChain|run_process]: launching PwCalculation<131> iteration #1\n",
      "05/24/2023 11:02:34 AM <4148537> aiida.orm.nodes.process.workflow.workchain.WorkChainNode: [REPORT] [128|PwBaseWorkChain|sanity_check_insufficient_bands]: PwCalculation<131> run with smearing and highest band is occupied\n",
      "05/24/2023 11:02:34 AM <4148537> aiida.orm.nodes.process.workflow.workchain.WorkChainNode: [REPORT] [128|PwBaseWorkChain|sanity_check_insufficient_bands]: BandsData<134> has invalid occupations: Occupation of 0.008059168785439441 at last band lkn<0,0,20>\n",
      "05/24/2023 11:02:34 AM <4148537> aiida.orm.nodes.process.workflow.workchain.WorkChainNode: [REPORT] [128|PwBaseWorkChain|sanity_check_insufficient_bands]: PwCalculation<131> had insufficient bands\n",
      "05/24/2023 11:02:34 AM <4148537> aiida.orm.nodes.process.workflow.workchain.WorkChainNode: [REPORT] [128|PwBaseWorkChain|sanity_check_insufficient_bands]: Action taken: increased number of bands to 24 and restarting from the previous charge density.\n",
      "05/24/2023 11:02:34 AM <4148537> aiida.orm.nodes.process.workflow.workchain.WorkChainNode: [REPORT] [128|PwBaseWorkChain|inspect_process]: PwCalculation<131> finished successfully but a handler was triggered, restarting\n",
      "05/24/2023 11:02:34 AM <4148537> aiida.orm.nodes.process.workflow.workchain.WorkChainNode: [REPORT] [128|PwBaseWorkChain|run_process]: launching PwCalculation<139> iteration #2\n",
      "05/24/2023 11:02:44 AM <4148537> aiida.orm.nodes.process.workflow.workchain.WorkChainNode: [REPORT] [128|PwBaseWorkChain|results]: work chain completed after 2 iterations\n",
      "05/24/2023 11:02:45 AM <4148537> aiida.orm.nodes.process.workflow.workchain.WorkChainNode: [REPORT] [128|PwBaseWorkChain|on_terminated]: cleaned remote folders of calculations: 131 139\n",
      "05/24/2023 11:02:47 AM <4148537> aiida.orm.nodes.process.workflow.workchain.WorkChainNode: [REPORT] [100|PhononWorkChain|run_phonopy]: submitting `PhonopyCalculation` <PK=148>\n",
      "05/24/2023 11:02:53 AM <4148537> aiida.orm.nodes.process.workflow.workchain.WorkChainNode: [REPORT] [100|PhononWorkChain|inspect_phonopy]: WARNING: no force constants in output\n",
      "05/24/2023 11:02:53 AM <4148537> aiida.orm.nodes.process.workflow.workchain.WorkChainNode: [REPORT] [100|PhononWorkChain|on_terminated]: cleaned remote folders of calculations: 111 119 131 139 148\n"
     ]
    }
   ],
   "source": [
    "from aiida.orm import List\n",
    "from aiida.plugins import WorkflowFactory\n",
    "from aiida.engine import run_get_node\n",
    "\n",
    "from aiida_vibroscopy.common.properties import PhononProperty\n",
    "\n",
    "PhononWorkChain = WorkflowFactory(\"vibroscopy.phonons.phonon\")\n",
    "\n",
    "builder = PhononWorkChain.get_builder_from_protocol(\n",
    "    pw_code=data.pw_code,\n",
    "    structure=structure,\n",
    "    protocol=\"fast\",\n",
    "    phonopy_code=data.phonopy_code,\n",
    "    phonon_property=PhononProperty.BANDS\n",
    ")\n",
    "builder.supercell_matrix = List([1,1,1]) # this can be 2,2,2, but we save some time JUST FOR THE TUTORIAL\n",
    "\n",
    "results, calc = run_get_node(builder)"
   ]
  },
  {
   "attachments": {},
   "cell_type": "markdown",
   "metadata": {},
   "source": [
    "These are the results:"
   ]
  },
  {
   "cell_type": "code",
   "execution_count": 4,
   "metadata": {},
   "outputs": [
    {
     "data": {
      "text/plain": [
       "{'supercells': {'supercell_1': <StructureData: uuid: 3d023d79-22bf-428d-bfc2-c5b0fa0ddbda (pk: 126)>},\n",
       " 'supercells_forces': {'forces_0': <TrajectoryData: uuid: b370d91e-b60e-4c34-969c-08dc3a85a370 (pk: 123)>,\n",
       "  'forces_1': <TrajectoryData: uuid: 94811a63-5303-412e-b3fb-4c6f2101371e (pk: 143)>},\n",
       " 'phonopy_data': <PhonopyData: uuid: 2902efd5-d167-4c95-ba84-5ae7204749c8 (pk: 147)>,\n",
       " 'output_phonopy': {'output_parameters': <Dict: uuid: 87723b60-1bef-4e26-899e-331f3eb7824f (pk: 151)>,\n",
       "  'phonon_bands': <BandsData: uuid: 2162132f-c712-4256-9b26-fd3fd5c9cfff (pk: 152)>,\n",
       "  'remote_folder': <RemoteData: uuid: 272830c1-5f11-42f9-9d0e-e557c09ec67a (pk: 149)>,\n",
       "  'retrieved': <FolderData: uuid: 3c527749-7e6d-4f54-8f99-9723657f00b8 (pk: 150)>}}"
      ]
     },
     "execution_count": 4,
     "metadata": {},
     "output_type": "execute_result"
    }
   ],
   "source": [
    "results"
   ]
  },
  {
   "attachments": {},
   "cell_type": "markdown",
   "metadata": {},
   "source": [
    "As we computed the __phonon dispersion__, we can easily plot it as follows:"
   ]
  },
  {
   "cell_type": "code",
   "execution_count": 5,
   "metadata": {},
   "outputs": [
    {
     "data": {
      "image/png": "[encoded data removed]",
      "text/plain": [
       "<Figure size 432x288 with 1 Axes>"
      ]
     },
     "metadata": {
      "needs_background": "light"
     },
     "output_type": "display_data"
    }
   ],
   "source": [
    "calc.outputs.output_phonopy.phonon_bands.show_mpl()"
   ]
  },
  {
   "attachments": {},
   "cell_type": "markdown",
   "metadata": {},
   "source": [
    "### Analysing the workflow\n",
    "\n",
    "Many things happened for computing this phonon band structure. Let's inspect the process tree."
   ]
  },
  {
   "cell_type": "code",
   "execution_count": 6,
   "metadata": {},
   "outputs": [
    {
     "name": "stdout",
     "output_type": "stream",
     "text": [
      "\u001b[22mPhononWorkChain<100> Finished [0] [7:if_(should_run_phonopy)(1:inspect_phonopy)]\n",
      "    ├── generate_preprocess_data<101> Finished [0]\n",
      "    ├── get_supercell<103> Finished [0]\n",
      "    ├── create_kpoints_from_distance<105> Finished [0]\n",
      "    ├── PwBaseWorkChain<108> Finished [0] [3:results]\n",
      "    │   ├── PwCalculation<111> Finished [0]\n",
      "    │   └── PwCalculation<119> Finished [0]\n",
      "    ├── get_supercells_with_displacements<125> Finished [0]\n",
      "    ├── PwBaseWorkChain<128> Finished [0] [3:results]\n",
      "    │   ├── PwCalculation<131> Finished [0]\n",
      "    │   └── PwCalculation<139> Finished [0]\n",
      "    ├── generate_phonopy_data<146> Finished [0]\n",
      "    └── PhonopyCalculation<148> Finished [0]\u001b[0m\n"
     ]
    }
   ],
   "source": [
    "%verdi process status {calc.pk}"
   ]
  },
  {
   "attachments": {},
   "cell_type": "markdown",
   "metadata": {},
   "source": [
    "Here the explanation:\n",
    "\n",
    "1. First a {{ preprocess_data }} was instantiated. This data type stores the information of the structure, its symmetries and the displacements dataset to perform for the harmonic phonons.\n",
    "2. A _base_ ground-state calculation is performed via a {{ pwbase }}. This will be used in the following as _starting point_ for all the structures with displacements.\n",
    "3. The `StructureData` with displacements are generated.\n",
    "4. For each of such structures, an SCF is run using a {{ pwbase }} to compute the forces.\n",
    "5. A {{ phonopy_data }} is generated. This gathers together ALL the information of a phonon calculation: structure, symmetry, supercell, primitive cell, displacements, and forces. (eventually, also the non-analytical constants; see the [tutorial on polar materials](4_polar.ipynb))\n",
    "6. This data node is used to post-process the information via a {class}`~aiida_phonopy.calculations.phonopy.PhonopyCalculation`.\n",
    "\n",
    "::: {admonition} Can you explain why only one displacement?\n",
    ":class: hint, dropdown\n",
    "\n",
    "We used symmetries to reduce the number of structure with displacements to compute. In materials, we can exploit the fact that different operations are connected by symmetry. As an example, if we have inversion symmetry, it holds (for a one dimensional function):\n",
    "\n",
    "\\begin{equation}\n",
    " f(x) = -f(-x)\n",
    "\\end{equation}\n",
    "\n",
    "Thus, in equation (1) we would save one calculation. In silicon, we have only one atom symmetrically inequivalent, and only one inequivalent direction. The power of group symmetries!\n",
    ":::\n",
    "\n",
    "You can also inspect this data to convince yourself."
   ]
  },
  {
   "cell_type": "code",
   "execution_count": 7,
   "metadata": {},
   "outputs": [
    {
     "data": {
      "text/plain": [
       "{'natom': 8,\n",
       " 'first_atoms': [{'number': 0,\n",
       "   'displacement': [0.01, 0.0, 6.123233995736852e-19]}]}"
      ]
     },
     "execution_count": 7,
     "metadata": {},
     "output_type": "execute_result"
    }
   ],
   "source": [
    "calc.outputs.phonopy_data.displacement_dataset"
   ]
  },
  {
   "attachments": {},
   "cell_type": "markdown",
   "metadata": {},
   "source": [
    "## Final considerations\n",
    "\n",
    "We managed to compute the phonons of silicon __fully__ ___ab initio___! :tada:\n",
    "\n",
    ":::{admonition} Learn more and in details\n",
    ":class: hint\n",
    "\n",
    "To learn the full sets of inputs, to use proficiently the `get_builder_from_protocol` and more, have a look at the following sections:\n",
    "- [Specific how tos](howto/workflows/phonons/base.md)\n",
    "- [General information of the implemented workchain](topics/workflows/phonons/base.md)"
   ]
  }
 ],
 "metadata": {
  "kernelspec": {
   "display_name": "base",
   "language": "python",
   "name": "python3"
  },
  "language_info": {
   "codemirror_mode": {
    "name": "ipython",
    "version": 3
   },
   "file_extension": ".py",
   "mimetype": "text/x-python",
   "name": "python",
   "nbconvert_exporter": "python",
   "pygments_lexer": "ipython3",
   "version": "3.8.10"
  },
  "orig_nbformat": 4,
  "vscode": {
   "interpreter": {
    "hash": "d4d1e4263499bec80672ea0156c357c1ee493ec2b1c70f0acce89fc37c4a6abe"
   }
  }
 },
 "nbformat": 4,
 "nbformat_minor": 2
}
