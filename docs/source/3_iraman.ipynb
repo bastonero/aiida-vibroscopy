{
 "cells": [
  {
   "attachments": {},
   "cell_type": "markdown",
   "metadata": {},
   "source": [
    "\n",
    "(tutorials-iraman)=\n",
    "\n",
    "# Vibrational spectra of Si\n",
    "\n",
    "In this tutorial you will learn how to calculate the infrared and Raman spectra of silicon using `aiida-vibroscopy`.\n",
    "\n",
    "In this tutorial we will make use of the silicon structure to give you an overall understanding of the usage of the package.\n",
    "If you are interested in other features, please have a look at the [other tutorials](tutorials).\n",
    "\n",
    "Let's get started!"
   ]
  },
  {
   "attachments": {},
   "cell_type": "markdown",
   "metadata": {},
   "source": [
    "\n",
    "## Finite electric fields\n",
    "\n",
    "In the Placzek approximations (good for insulators), all the needed quantities for Raman can be computed as finite difference using the electric fields, as demonstrated in [the previous tutorial for the dielectric tensor](2_dielectric).\n",
    "Now we a more challenging task, as a __third order derivative__ is needed: __the Raman tensor__, defined as:\n",
    "\n",
    "\\begin{equation}\n",
    "    \\frac{\\partial \\chi_{ij}}{\\partial \\tau_{K,k}} \n",
    "    =\n",
    "    \\frac{1}{\\Omega}\n",
    "    \\frac{\\partial^2 F_{K,k}}{\\partial \\mathcal{E}_i \\partial \\mathcal{E}_j}\n",
    "\\end{equation}\n",
    "\n",
    "The same theory we saw in previous tutorials applies here. Note that for computing _second order_ derivatives of forces we need a slightly different formula:\n",
    "\n",
    "\\begin{equation}\n",
    "    \\left . \\frac{\\partial f(x)}{\\partial x} \\right|_{x=0}\n",
    "    =\n",
    "    \\frac{1}{h^2}\n",
    "    \\left [\n",
    "        f(h) -2f(0) +f(-2h)\n",
    "    \\right ]\n",
    "    + \\mathcal(O)(h^2)\n",
    "\\end{equation}\n",
    "\n",
    "Have a look at the [finite difference coefficients](https://en.wikipedia.org/wiki/Finite_difference_coefficient) for coefficients of any accuracy order."
   ]
  },
  {
   "cell_type": "code",
   "execution_count": 1,
   "metadata": {
    "tags": [
     "hide-cell"
    ]
   },
   "outputs": [],
   "source": [
    "from local_module import load_temp_profile\n",
    "\n",
    "# If you download this file, you can run it with your own profile.\n",
    "# Put these lines instead:\n",
    "# from aiida import load_profile\n",
    "# load_profile()\n",
    "data = load_temp_profile(\n",
    "    name=\"raman-tutorial\",\n",
    "    add_computer=True,\n",
    "    add_pw_code=True,\n",
    "    add_sssp=True,\n",
    ")"
   ]
  },
  {
   "attachments": {},
   "cell_type": "markdown",
   "metadata": {},
   "source": [
    "\n",
    "## The `IRamanSpectraWorkChain`\n",
    "\n",
    "For computing the spectra we need both phonons and Raman tensors. For understanding better the ingredients, refer to the [formulation](topics/formulation.md) and to the [references](cite) \n",
    "\n",
    ":::{note}\n",
    ":class: dropdown\n",
    "\n",
    "Also the Raman tensors can be computed using perturbative approaches, such as the so called _2n+1 theorem_ and the _second order response of the density matrix_. Quantum ESPRESSO can carry out such simulation using the __PHonon__ code (`ph.x` routine). Nevertheless, __only LDA and norm-conserving pseudopotential__ can be employed. \n",
    ":::\n",
    "\n",
    "Let's import the WorkChain and run it! We use the `get_builder_from_protocol` to get a __prefilled__ builder with __all inputs__. \n",
    "\n",
    "::: {note}\n",
    "These inputs should be considered __not as converged parameters__, but as a good starting point. You may also need to tweak some parameters, e.g. add magnetization etc., depending on your case. \n",
    ":::"
   ]
  },
  {
   "cell_type": "code",
   "execution_count": 2,
   "metadata": {
    "tags": [
     "hide-cell"
    ]
   },
   "outputs": [],
   "source": [
    "from aiida.plugins import DbImporterFactory\n",
    "\n",
    "CodDbImporter = DbImporterFactory('cod')\n",
    "\n",
    "cod = CodDbImporter()\n",
    "results = cod.query(id='1526655') # Si   1526655\n",
    "structure = results[0].get_aiida_structure() # it has 8 atoms"
   ]
  },
  {
   "cell_type": "code",
   "execution_count": 3,
   "metadata": {
    "tags": [
     "remove-stdout"
    ]
   },
   "outputs": [
    {
     "name": "stderr",
     "output_type": "stream",
     "text": [
      "05/24/2023 11:02:11 AM <4148882> aiida.orm.nodes.process.workflow.workchain.WorkChainNode: [REPORT] [106|IRamanSpectraWorkChain|run_spectra]: submitting `HarmonicWorkChain` <PK=108>\n",
      "05/24/2023 11:02:11 AM <4148882> aiida.engine.processes.functions: [WARNING] function `generate_preprocess_data` has invalid type hints: unsupported operand type(s) for |: 'AbstractNodeMeta' and 'NoneType'\n",
      "05/24/2023 11:02:11 AM <4148882> aiida.engine.processes.functions: [WARNING] function `generate_phonopy_data` has invalid type hints: unsupported operand type(s) for |: 'AbstractNodeMeta' and 'NoneType'\n",
      "05/24/2023 11:02:12 AM <4148882> aiida.orm.nodes.process.workflow.workchain.WorkChainNode: [REPORT] [108|HarmonicWorkChain|run_phonon]: submitting `PhononWorkChain` <PK=114>\n",
      "05/24/2023 11:02:12 AM <4148882> aiida.orm.nodes.process.workflow.workchain.WorkChainNode: [REPORT] [108|HarmonicWorkChain|run_dielectric]: submitting `DielectricWorkChain` <PK=118>\n",
      "05/24/2023 11:02:14 AM <4148882> aiida.orm.nodes.process.workflow.workchain.WorkChainNode: [REPORT] [118|DielectricWorkChain|run_base_scf]: launching base scf PwBaseWorkChain<131>\n",
      "05/24/2023 11:02:15 AM <4148882> aiida.orm.nodes.process.workflow.workchain.WorkChainNode: [REPORT] [131|PwBaseWorkChain|run_process]: launching PwCalculation<134> iteration #1\n",
      "05/24/2023 11:02:16 AM <4148882> aiida.orm.nodes.process.workflow.workchain.WorkChainNode: [REPORT] [114|PhononWorkChain|run_base_supercell]: launching base supercell scf PwBaseWorkChain<140>\n",
      "05/24/2023 11:02:16 AM <4148882> aiida.orm.nodes.process.workflow.workchain.WorkChainNode: [REPORT] [140|PwBaseWorkChain|run_process]: launching PwCalculation<143> iteration #1\n",
      "05/24/2023 11:02:35 AM <4148882> aiida.orm.nodes.process.workflow.workchain.WorkChainNode: [REPORT] [131|PwBaseWorkChain|sanity_check_insufficient_bands]: PwCalculation<134> run with smearing and highest band is occupied\n",
      "05/24/2023 11:02:35 AM <4148882> aiida.orm.nodes.process.workflow.workchain.WorkChainNode: [REPORT] [131|PwBaseWorkChain|sanity_check_insufficient_bands]: BandsData<147> has invalid occupations: Occupation of 0.009307178051580323 at last band lkn<0,0,20>\n",
      "05/24/2023 11:02:35 AM <4148882> aiida.orm.nodes.process.workflow.workchain.WorkChainNode: [REPORT] [131|PwBaseWorkChain|sanity_check_insufficient_bands]: PwCalculation<134> had insufficient bands\n",
      "05/24/2023 11:02:35 AM <4148882> aiida.orm.nodes.process.workflow.workchain.WorkChainNode: [REPORT] [131|PwBaseWorkChain|sanity_check_insufficient_bands]: Action taken: increased number of bands to 24 and restarting from the previous charge density.\n",
      "05/24/2023 11:02:35 AM <4148882> aiida.orm.nodes.process.workflow.workchain.WorkChainNode: [REPORT] [131|PwBaseWorkChain|inspect_process]: PwCalculation<134> finished successfully but a handler was triggered, restarting\n",
      "05/24/2023 11:02:35 AM <4148882> aiida.orm.nodes.process.workflow.workchain.WorkChainNode: [REPORT] [131|PwBaseWorkChain|run_process]: launching PwCalculation<152> iteration #2\n",
      "05/24/2023 11:02:36 AM <4148882> aiida.orm.nodes.process.workflow.workchain.WorkChainNode: [REPORT] [140|PwBaseWorkChain|sanity_check_insufficient_bands]: PwCalculation<143> run with smearing and highest band is occupied\n",
      "05/24/2023 11:02:36 AM <4148882> aiida.orm.nodes.process.workflow.workchain.WorkChainNode: [REPORT] [140|PwBaseWorkChain|sanity_check_insufficient_bands]: BandsData<154> has invalid occupations: Occupation of 0.009307178051003007 at last band lkn<0,0,20>\n",
      "05/24/2023 11:02:36 AM <4148882> aiida.orm.nodes.process.workflow.workchain.WorkChainNode: [REPORT] [140|PwBaseWorkChain|sanity_check_insufficient_bands]: PwCalculation<143> had insufficient bands\n",
      "05/24/2023 11:02:36 AM <4148882> aiida.orm.nodes.process.workflow.workchain.WorkChainNode: [REPORT] [140|PwBaseWorkChain|sanity_check_insufficient_bands]: Action taken: increased number of bands to 24 and restarting from the previous charge density.\n",
      "05/24/2023 11:02:36 AM <4148882> aiida.orm.nodes.process.workflow.workchain.WorkChainNode: [REPORT] [140|PwBaseWorkChain|inspect_process]: PwCalculation<143> finished successfully but a handler was triggered, restarting\n",
      "05/24/2023 11:02:37 AM <4148882> aiida.orm.nodes.process.workflow.workchain.WorkChainNode: [REPORT] [140|PwBaseWorkChain|run_process]: launching PwCalculation<160> iteration #2\n",
      "05/24/2023 11:02:47 AM <4148882> aiida.orm.nodes.process.workflow.workchain.WorkChainNode: [REPORT] [131|PwBaseWorkChain|results]: work chain completed after 2 iterations\n",
      "05/24/2023 11:02:47 AM <4148882> aiida.orm.nodes.process.workflow.workchain.WorkChainNode: [REPORT] [131|PwBaseWorkChain|on_terminated]: remote folders will not be cleaned\n",
      "05/24/2023 11:02:48 AM <4148882> aiida.orm.nodes.process.workflow.workchain.WorkChainNode: [REPORT] [118|DielectricWorkChain|run_nscf]: launching base scf PwBaseWorkChain<168>\n",
      "05/24/2023 11:02:49 AM <4148882> aiida.orm.nodes.process.workflow.workchain.WorkChainNode: [REPORT] [168|PwBaseWorkChain|run_process]: launching PwCalculation<171> iteration #1\n",
      "05/24/2023 11:02:52 AM <4148882> aiida.orm.nodes.process.workflow.workchain.WorkChainNode: [REPORT] [140|PwBaseWorkChain|results]: work chain completed after 2 iterations\n",
      "05/24/2023 11:02:52 AM <4148882> aiida.orm.nodes.process.workflow.workchain.WorkChainNode: [REPORT] [140|PwBaseWorkChain|on_terminated]: remote folders will not be cleaned\n",
      "05/24/2023 11:02:54 AM <4148882> aiida.orm.nodes.process.workflow.workchain.WorkChainNode: [REPORT] [114|PhononWorkChain|run_forces]: submitting `PwBaseWorkChain` <PK=180> with supercell n.o 1\n",
      "05/24/2023 11:02:56 AM <4148882> aiida.orm.nodes.process.workflow.workchain.WorkChainNode: [REPORT] [180|PwBaseWorkChain|run_process]: launching PwCalculation<183> iteration #1\n",
      "05/24/2023 11:03:07 AM <4148882> aiida.orm.nodes.process.workflow.workchain.WorkChainNode: [REPORT] [168|PwBaseWorkChain|results]: work chain completed after 1 iterations\n",
      "05/24/2023 11:03:07 AM <4148882> aiida.orm.nodes.process.workflow.workchain.WorkChainNode: [REPORT] [168|PwBaseWorkChain|on_terminated]: remote folders will not be cleaned\n",
      "05/24/2023 11:03:12 AM <4148882> aiida.orm.nodes.process.workflow.workchain.WorkChainNode: [REPORT] [118|DielectricWorkChain|run_null_field_scfs]: launching PwBaseWorkChain<197> with null electric field 0\n",
      "05/24/2023 11:03:12 AM <4148882> aiida.orm.nodes.process.workflow.workchain.WorkChainNode: [REPORT] [118|DielectricWorkChain|run_null_field_scfs]: launching PwBaseWorkChain<198> with null electric field 1\n",
      "05/24/2023 11:03:14 AM <4148882> aiida.orm.nodes.process.workflow.workchain.WorkChainNode: [REPORT] [197|PwBaseWorkChain|run_process]: launching PwCalculation<201> iteration #1\n",
      "05/24/2023 11:03:15 AM <4148882> aiida.orm.nodes.process.workflow.workchain.WorkChainNode: [REPORT] [198|PwBaseWorkChain|run_process]: launching PwCalculation<204> iteration #1\n",
      "05/24/2023 11:04:04 AM <4148882> aiida.orm.nodes.process.workflow.workchain.WorkChainNode: [REPORT] [180|PwBaseWorkChain|sanity_check_insufficient_bands]: PwCalculation<183> run with smearing and highest band is occupied\n",
      "05/24/2023 11:04:04 AM <4148882> aiida.orm.nodes.process.workflow.workchain.WorkChainNode: [REPORT] [180|PwBaseWorkChain|sanity_check_insufficient_bands]: BandsData<208> has invalid occupations: Occupation of 0.008059168787033277 at last band lkn<0,0,20>\n",
      "05/24/2023 11:04:04 AM <4148882> aiida.orm.nodes.process.workflow.workchain.WorkChainNode: [REPORT] [180|PwBaseWorkChain|sanity_check_insufficient_bands]: PwCalculation<183> had insufficient bands\n",
      "05/24/2023 11:04:04 AM <4148882> aiida.orm.nodes.process.workflow.workchain.WorkChainNode: [REPORT] [180|PwBaseWorkChain|sanity_check_insufficient_bands]: Action taken: increased number of bands to 24 and restarting from the previous charge density.\n",
      "05/24/2023 11:04:04 AM <4148882> aiida.orm.nodes.process.workflow.workchain.WorkChainNode: [REPORT] [180|PwBaseWorkChain|inspect_process]: PwCalculation<183> finished successfully but a handler was triggered, restarting\n",
      "05/24/2023 11:04:05 AM <4148882> aiida.orm.nodes.process.workflow.workchain.WorkChainNode: [REPORT] [180|PwBaseWorkChain|run_process]: launching PwCalculation<213> iteration #2\n",
      "05/24/2023 11:04:53 AM <4148882> aiida.orm.nodes.process.workflow.workchain.WorkChainNode: [REPORT] [180|PwBaseWorkChain|results]: work chain completed after 2 iterations\n",
      "05/24/2023 11:04:53 AM <4148882> aiida.orm.nodes.process.workflow.workchain.WorkChainNode: [REPORT] [180|PwBaseWorkChain|on_terminated]: cleaned remote folders of calculations: 183 213\n",
      "05/24/2023 11:04:57 AM <4148882> aiida.orm.nodes.process.workflow.workchain.WorkChainNode: [REPORT] [114|PhononWorkChain|on_terminated]: cleaned remote folders of calculations: 143 160 183 213\n",
      "05/24/2023 11:05:02 AM <4148882> aiida.orm.nodes.process.workflow.workchain.WorkChainNode: [REPORT] [197|PwBaseWorkChain|results]: work chain completed after 1 iterations\n",
      "05/24/2023 11:05:03 AM <4148882> aiida.orm.nodes.process.workflow.workchain.WorkChainNode: [REPORT] [197|PwBaseWorkChain|on_terminated]: remote folders will not be cleaned\n",
      "05/24/2023 11:05:10 AM <4148882> aiida.orm.nodes.process.workflow.workchain.WorkChainNode: [REPORT] [198|PwBaseWorkChain|results]: work chain completed after 1 iterations\n",
      "05/24/2023 11:05:10 AM <4148882> aiida.orm.nodes.process.workflow.workchain.WorkChainNode: [REPORT] [198|PwBaseWorkChain|on_terminated]: remote folders will not be cleaned\n",
      "05/24/2023 11:05:11 AM <4148882> aiida.orm.nodes.process.workflow.workchain.WorkChainNode: [REPORT] [118|DielectricWorkChain|run_electric_field_scfs]: launching PwBaseWorkChain<232> with electric field index 2 and sign 1.0 iteration #0\n",
      "05/24/2023 11:05:13 AM <4148882> aiida.orm.nodes.process.workflow.workchain.WorkChainNode: [REPORT] [118|DielectricWorkChain|run_electric_field_scfs]: launching PwBaseWorkChain<235> with electric field index 3 and sign 1.0 iteration #0\n",
      "05/24/2023 11:05:15 AM <4148882> aiida.orm.nodes.process.workflow.workchain.WorkChainNode: [REPORT] [232|PwBaseWorkChain|run_process]: launching PwCalculation<238> iteration #1\n",
      "05/24/2023 11:05:16 AM <4148882> aiida.orm.nodes.process.workflow.workchain.WorkChainNode: [REPORT] [235|PwBaseWorkChain|run_process]: launching PwCalculation<241> iteration #1\n",
      "05/24/2023 11:15:20 AM <4148882> aiida.orm.nodes.process.workflow.workchain.WorkChainNode: [REPORT] [232|PwBaseWorkChain|results]: work chain completed after 1 iterations\n",
      "05/24/2023 11:15:20 AM <4148882> aiida.orm.nodes.process.workflow.workchain.WorkChainNode: [REPORT] [232|PwBaseWorkChain|on_terminated]: remote folders will not be cleaned\n",
      "05/24/2023 11:15:34 AM <4148882> aiida.orm.nodes.process.workflow.workchain.WorkChainNode: [REPORT] [235|PwBaseWorkChain|results]: work chain completed after 1 iterations\n",
      "05/24/2023 11:15:34 AM <4148882> aiida.orm.nodes.process.workflow.workchain.WorkChainNode: [REPORT] [235|PwBaseWorkChain|on_terminated]: remote folders will not be cleaned\n",
      "05/24/2023 11:15:35 AM <4148882> aiida.orm.nodes.process.workflow.workchain.WorkChainNode: [REPORT] [118|DielectricWorkChain|run_electric_field_scfs]: launching PwBaseWorkChain<254> with electric field index 2 and sign 1.0 iteration #1\n",
      "05/24/2023 11:15:36 AM <4148882> aiida.orm.nodes.process.workflow.workchain.WorkChainNode: [REPORT] [118|DielectricWorkChain|run_electric_field_scfs]: launching PwBaseWorkChain<257> with electric field index 3 and sign 1.0 iteration #1\n",
      "05/24/2023 11:15:38 AM <4148882> aiida.orm.nodes.process.workflow.workchain.WorkChainNode: [REPORT] [254|PwBaseWorkChain|run_process]: launching PwCalculation<260> iteration #1\n",
      "05/24/2023 11:15:39 AM <4148882> aiida.orm.nodes.process.workflow.workchain.WorkChainNode: [REPORT] [257|PwBaseWorkChain|run_process]: launching PwCalculation<263> iteration #1\n",
      "05/24/2023 11:18:40 AM <4148882> aiida.orm.nodes.process.workflow.workchain.WorkChainNode: [REPORT] [254|PwBaseWorkChain|results]: work chain completed after 1 iterations\n",
      "05/24/2023 11:18:40 AM <4148882> aiida.orm.nodes.process.workflow.workchain.WorkChainNode: [REPORT] [254|PwBaseWorkChain|on_terminated]: remote folders will not be cleaned\n",
      "05/24/2023 11:20:25 AM <4148882> aiida.orm.nodes.process.workflow.workchain.WorkChainNode: [REPORT] [257|PwBaseWorkChain|results]: work chain completed after 1 iterations\n",
      "05/24/2023 11:20:25 AM <4148882> aiida.orm.nodes.process.workflow.workchain.WorkChainNode: [REPORT] [257|PwBaseWorkChain|on_terminated]: remote folders will not be cleaned\n",
      "05/24/2023 11:20:27 AM <4148882> aiida.orm.nodes.process.workflow.workchain.WorkChainNode: [REPORT] [118|DielectricWorkChain|run_numerical_derivatives]: launching NumericalDerivativesWorkChain<281> for computing numerical derivatives.\n",
      "/aiida-plugins/aiida-vibroscopy/src/aiida_vibroscopy/calculations/symmetry.py:162: UserWarning: Symmetry of dChi/dr tensors is largely broken. \n",
      "The max difference is:\n",
      "21.971663701634725\n",
      "  warnings.warn('\\n'.join(lines))\n",
      "/aiida-plugins/aiida-vibroscopy/src/aiida_vibroscopy/calculations/symmetry.py:162: UserWarning: Symmetry of dChi/dr tensors is largely broken. \n",
      "The max difference is:\n",
      "94.52835279718761\n",
      "  warnings.warn('\\n'.join(lines))\n",
      "/aiida-plugins/aiida-vibroscopy/src/aiida_vibroscopy/calculations/symmetry.py:162: UserWarning: Symmetry of dChi/dr tensors is largely broken. \n",
      "The max difference is:\n",
      "118.71391582903925\n",
      "  warnings.warn('\\n'.join(lines))\n",
      "05/24/2023 11:20:32 AM <4148882> aiida.orm.nodes.process.workflow.workchain.WorkChainNode: [REPORT] [118|DielectricWorkChain|on_terminated]: cleaned remote folders of calculations: 134 152 171 201 204 238 241 260 263\n",
      "05/24/2023 11:20:36 AM <4148882> aiida.orm.nodes.process.workflow.workchain.WorkChainNode: [REPORT] [108|HarmonicWorkChain|on_terminated]: cleaned remote folders of calculations: 143 160 183 213 134 152 171 201 204 238 241 260 263\n"
     ]
    }
   ],
   "source": [
    "from aiida.plugins import WorkflowFactory\n",
    "from aiida.engine import run_get_node\n",
    "\n",
    "IRamanSpectraWorkChain = WorkflowFactory(\"vibroscopy.spectra.iraman\")\n",
    "\n",
    "builder = IRamanSpectraWorkChain.get_builder_from_protocol(\n",
    "    code=data.pw_code,\n",
    "    structure=structure,\n",
    "    protocol=\"fast\",\n",
    ")\n",
    "\n",
    "results, calc = run_get_node(builder)"
   ]
  },
  {
   "attachments": {},
   "cell_type": "markdown",
   "metadata": {},
   "source": [
    "These are the results:"
   ]
  },
  {
   "cell_type": "code",
   "execution_count": 4,
   "metadata": {},
   "outputs": [
    {
     "data": {
      "text/plain": [
       "{'output_dielectric': AttributeDict({'fields_data': AttributeDict({'field_index_2': AttributeDict({'0': <TrajectoryData: uuid: d443ca1f-b30b-4b75-a209-e680a1f732bb (pk: 246)>, '1': <TrajectoryData: uuid: 91c958f3-48da-4f89-8fb9-8515069cdf03 (pk: 268)>}), 'field_index_3': AttributeDict({'0': <TrajectoryData: uuid: d54a99d5-5790-43f5-8461-1241d1e1577e (pk: 250)>, '1': <TrajectoryData: uuid: 9d1234d1-e77e-442f-b01e-58e92518a8bc (pk: 272)>})}), 'tensors': AttributeDict({'numerical_accuracy_2_step_2': <ArrayData: uuid: 5bac9170-8bd0-4bd7-b122-5a54c70e7e9f (pk: 294)>, 'numerical_accuracy_2_step_1': <ArrayData: uuid: 01953989-f02d-414a-83ac-88efb148add0 (pk: 296)>, 'numerical_accuracy_4': <ArrayData: uuid: 9b1701ed-4157-421a-b7dc-2ab709ed323f (pk: 298)>}), 'critical_electric_field': <Float: uuid: cfebef1d-8916-43b7-b6a3-c76297cd305d (pk: 190) value: 0.00091230365735765>, 'electric_field_step': <Float: uuid: c9355f6c-6283-4053-af16-07383a8e565f (pk: 194) value: 0.00045615182867883>, 'units': <Dict: uuid: 4ffca53f-8eac-4ae6-9341-658e47444649 (pk: 292)>}),\n",
       " 'output_phonon': AttributeDict({'supercells': AttributeDict({'supercell_1': <StructureData: uuid: 64812fa5-1e5b-4f87-9517-e9d978fab7f0 (pk: 178)>}), 'supercells_forces': AttributeDict({'forces_0': <TrajectoryData: uuid: 8da64d92-77a3-45b1-9be9-ac796b97d39b (pk: 174)>, 'forces_1': <TrajectoryData: uuid: 74a664bb-7bad-4b4c-b2a8-c565368ea7b5 (pk: 217)>}), 'phonopy_data': <PhonopyData: uuid: caa40178-e9ff-46af-9d77-1bd8a68e71fd (pk: 221)>}),\n",
       " 'vibrational_data': AttributeDict({'numerical_accuracy_2_step_2': <VibrationalData: uuid: 08aab549-cc64-4c71-a153-e61dd7f8e0db (pk: 302)>, 'numerical_accuracy_2_step_1': <VibrationalData: uuid: e2b78311-d5e9-461c-929d-ec45c21dc342 (pk: 306)>, 'numerical_accuracy_4': <VibrationalData: uuid: b382f41d-2a41-457b-a510-b7cb7d471411 (pk: 310)>})}"
      ]
     },
     "execution_count": 4,
     "metadata": {},
     "output_type": "execute_result"
    }
   ],
   "source": [
    "results"
   ]
  },
  {
   "attachments": {},
   "cell_type": "markdown",
   "metadata": {},
   "source": [
    "## The `VibrationalData`\n",
    "\n",
    "In aiida-vibroscopy we design a data type able to store __all__ the phonon and dielectric properties, to ease the share of the data and make it as costistent as possible.\n",
    "\n",
    "In this data, you can access to multiple information:\n",
    "\n",
    "- Structure (cell, sites, ...)\n",
    "- Symmetry\n",
    "- Dielectric tensor ($\\epsilon^{\\infty}$)\n",
    "- Born effective charges ($Z^*$)\n",
    "- Raman tensors ($\\partial \\chi / \\partial \\tau$)\n",
    "- Non-linear optical susceptibility ($\\chi^{(2)}$)\n",
    "\n",
    "Again, Born effective charges and non-linear optical susceptibility are null in silicon, due to symmetry. In the [next tutorial](4_polar) we are going to compute such quantities for AlAs, which are non vanishing."
   ]
  },
  {
   "cell_type": "code",
   "execution_count": 5,
   "metadata": {},
   "outputs": [
    {
     "name": "stdout",
     "output_type": "stream",
     "text": [
      "The VibrationalData:  uuid: b382f41d-2a41-457b-a510-b7cb7d471411 (pk: 310) \n",
      "\n",
      "The dielectric tensor:  \n",
      " [[11.08524  0.      -0.     ]\n",
      " [ 0.      11.08524 -0.     ]\n",
      " [-0.      -0.      11.08524]] \n",
      "\n",
      "The Raman tensors (in 1/Angstrom):  \n",
      " [[[[-0.       0.      -0.     ]\n",
      "   [ 0.      -0.      -0.08896]\n",
      "   [-0.      -0.08896 -0.     ]]\n",
      "\n",
      "  [[ 0.      -0.      -0.08896]\n",
      "   [ 0.       0.      -0.     ]\n",
      "   [-0.08896 -0.      -0.     ]]\n",
      "\n",
      "  [[-0.      -0.08896 -0.     ]\n",
      "   [-0.08896  0.      -0.     ]\n",
      "   [-0.      -0.      -0.     ]]]\n",
      "\n",
      "\n",
      " [[[ 0.       0.       0.     ]\n",
      "   [-0.       0.       0.08896]\n",
      "   [ 0.       0.08896  0.     ]]\n",
      "\n",
      "  [[-0.       0.       0.08896]\n",
      "   [ 0.      -0.      -0.     ]\n",
      "   [ 0.08896  0.       0.     ]]\n",
      "\n",
      "  [[ 0.       0.08896  0.     ]\n",
      "   [ 0.08896  0.       0.     ]\n",
      "   [ 0.       0.       0.     ]]]] \n",
      "\n"
     ]
    }
   ],
   "source": [
    "vibro = calc.outputs.vibrational_data.numerical_accuracy_4\n",
    "print(\"The VibrationalData: \", vibro, \"\\n\")\n",
    "print(\"The dielectric tensor: \", \"\\n\", vibro.dielectric.round(5), \"\\n\")\n",
    "print(\"The Raman tensors (in 1/Angstrom): \", \"\\n\", vibro.raman_tensors.round(5), \"\\n\")"
   ]
  },
  {
   "attachments": {},
   "cell_type": "markdown",
   "metadata": {},
   "source": [
    "And we can also check how much the Raman tensors, which are third order derivatives, are sensible to the numerical accuracy chosen. Usually, the Raman tensor is expressed in $\\AA^2$. To get it, one can use the convention in the code:\n",
    "\n",
    "\\begin{equation}\n",
    "    \\left [\n",
    "        \\frac{\\partial \\chi}{\\partial \\tau}\n",
    "    \\right] (\\AA^2)\n",
    "    = \n",
    "    \\Omega_{unitcell}\n",
    "    \\left [\n",
    "        \\frac{\\partial \\chi}{\\partial \\tau}\n",
    "    \\right] (\\AA^{-1})\n",
    "\\end{equation}"
   ]
  },
  {
   "cell_type": "code",
   "execution_count": 6,
   "metadata": {},
   "outputs": [
    {
     "name": "stdout",
     "output_type": "stream",
     "text": [
      "13.86057079085759 13.895477711258131 14.00019847245988\n"
     ]
    }
   ],
   "source": [
    "vol = calc.outputs.vibrational_data.numerical_accuracy_4.get_unitcell().get_cell_volume()\n",
    "\n",
    "print(\n",
    "    calc.outputs.vibrational_data.numerical_accuracy_4.raman_tensors[1,0,1,2]*vol,\n",
    "    calc.outputs.vibrational_data.numerical_accuracy_2_step_1.raman_tensors[1,0,1,2]*vol,\n",
    "    calc.outputs.vibrational_data.numerical_accuracy_2_step_2.raman_tensors[1,0,1,2]*vol,\n",
    ")"
   ]
  },
  {
   "attachments": {},
   "cell_type": "markdown",
   "metadata": {},
   "source": [
    "We can see that the values are converged within 0.1 $\\AA$ with all three steps."
   ]
  },
  {
   "attachments": {},
   "cell_type": "markdown",
   "metadata": {},
   "source": [
    "## Plotting the powder Raman spectra\n",
    "\n",
    "Now, we can get directly from the data the Raman intensities."
   ]
  },
  {
   "cell_type": "code",
   "execution_count": 7,
   "metadata": {},
   "outputs": [
    {
     "name": "stdout",
     "output_type": "stream",
     "text": [
      "[531.91425155 531.91425155 531.91425155] \n",
      " ['T2g', 'T2g', 'T2g']\n"
     ]
    }
   ],
   "source": [
    "polarized_intensities, unpolarized_intensities, frequencies, labels = vibro.run_powder_raman_intensities(frequency_laser=532, temperature=300)\n",
    "print(frequencies, \"\\n\", labels)"
   ]
  },
  {
   "attachments": {},
   "cell_type": "markdown",
   "metadata": {},
   "source": [
    "We have 3 degenerate modes. Quite expected for silicon, which is very symmetric. To plot the actual spectra:"
   ]
  },
  {
   "cell_type": "code",
   "execution_count": 8,
   "metadata": {},
   "outputs": [
    {
     "data": {
      "image/png": "[encoded data removed]",
      "text/plain": [
       "<Figure size 432x288 with 1 Axes>"
      ]
     },
     "metadata": {
      "needs_background": "light"
     },
     "output_type": "display_data"
    }
   ],
   "source": [
    "from aiida_vibroscopy.utils.plotting import get_spectra_plot\n",
    "\n",
    "total_intensities =  polarized_intensities + unpolarized_intensities\n",
    "plt = get_spectra_plot(frequencies, total_intensities)\n",
    "plt.show()"
   ]
  },
  {
   "attachments": {},
   "cell_type": "markdown",
   "metadata": {},
   "source": [
    "## Analysing the workflow\n",
    "\n",
    "Look how the complexity of computing a Raman spectra has been handled __fully automatically__."
   ]
  },
  {
   "cell_type": "code",
   "execution_count": 9,
   "metadata": {},
   "outputs": [
    {
     "name": "stdout",
     "output_type": "stream",
     "text": [
      "\u001b[22mIRamanSpectraWorkChain<106> Finished [0] [2:if_(should_run_average)]\n",
      "    └── HarmonicWorkChain<108> Finished [0] [4:if_(should_run_phonopy)]\n",
      "        ├── generate_preprocess_data<109> Finished [0]\n",
      "        ├── PhononWorkChain<114> Finished [0] [7:if_(should_run_phonopy)]\n",
      "        │   ├── generate_preprocess_data<119> Finished [0]\n",
      "        │   ├── get_supercell<135> Finished [0]\n",
      "        │   ├── create_kpoints_from_distance<137> Finished [0]\n",
      "        │   ├── PwBaseWorkChain<140> Finished [0] [3:results]\n",
      "        │   │   ├── PwCalculation<143> Finished [0]\n",
      "        │   │   └── PwCalculation<160> Finished [0]\n",
      "        │   ├── get_supercells_with_displacements<177> Finished [0]\n",
      "        │   ├── PwBaseWorkChain<180> Finished [0] [3:results]\n",
      "        │   │   ├── PwCalculation<183> Finished [0]\n",
      "        │   │   └── PwCalculation<213> Finished [0]\n",
      "        │   └── generate_phonopy_data<220> Finished [0]\n",
      "        ├── DielectricWorkChain<118> Finished [0] [11:results]\n",
      "        │   ├── create_kpoints_from_distance<120> Finished [0]\n",
      "        │   ├── create_directional_kpoints<124> Finished [0]\n",
      "        │   ├── create_directional_kpoints<127> Finished [0]\n",
      "        │   ├── PwBaseWorkChain<131> Finished [0] [3:results]\n",
      "        │   │   ├── PwCalculation<134> Finished [0]\n",
      "        │   │   └── PwCalculation<152> Finished [0]\n",
      "        │   ├── PwBaseWorkChain<168> Finished [0] [3:results]\n",
      "        │   │   └── PwCalculation<171> Finished [0]\n",
      "        │   ├── compute_critical_electric_field<189> Finished [0]\n",
      "        │   ├── get_accuracy_from_critical_field<191> Finished [0]\n",
      "        │   ├── get_electric_field_step<193> Finished [0]\n",
      "        │   ├── PwBaseWorkChain<197> Finished [0] [3:results]\n",
      "        │   │   └── PwCalculation<201> Finished [0]\n",
      "        │   ├── PwBaseWorkChain<198> Finished [0] [3:results]\n",
      "        │   │   └── PwCalculation<204> Finished [0]\n",
      "        │   ├── PwBaseWorkChain<232> Finished [0] [3:results]\n",
      "        │   │   └── PwCalculation<238> Finished [0]\n",
      "        │   ├── PwBaseWorkChain<235> Finished [0] [3:results]\n",
      "        │   │   └── PwCalculation<241> Finished [0]\n",
      "        │   ├── PwBaseWorkChain<254> Finished [0] [3:results]\n",
      "        │   │   └── PwCalculation<260> Finished [0]\n",
      "        │   ├── PwBaseWorkChain<257> Finished [0] [3:results]\n",
      "        │   │   └── PwCalculation<263> Finished [0]\n",
      "        │   ├── subtract_residual_forces<276> Finished [0]\n",
      "        │   └── NumericalDerivativesWorkChain<281> Finished [0] [None]\n",
      "        │       ├── generate_preprocess_data<282> Finished [0]\n",
      "        │       ├── compute_nac_parameters<284> Finished [0]\n",
      "        │       ├── compute_susceptibility_derivatives<288> Finished [0]\n",
      "        │       ├── join_tensors<293> Finished [0]\n",
      "        │       ├── join_tensors<295> Finished [0]\n",
      "        │       └── join_tensors<297> Finished [0]\n",
      "        ├── elaborate_tensors<299> Finished [0]\n",
      "        ├── generate_vibrational_data_from_phonopy<301> Finished [0]\n",
      "        ├── elaborate_tensors<303> Finished [0]\n",
      "        ├── generate_vibrational_data_from_phonopy<305> Finished [0]\n",
      "        ├── elaborate_tensors<307> Finished [0]\n",
      "        └── generate_vibrational_data_from_phonopy<309> Finished [0]\u001b[0m\n"
     ]
    }
   ],
   "source": [
    "%verdi process status {calc.pk}"
   ]
  },
  {
   "attachments": {},
   "cell_type": "markdown",
   "metadata": {},
   "source": [
    "## Convergence with k points\n",
    "\n",
    "As a final remark, we show here how the convergence with k points is speeded up by sampling in this _directional_ manner, compared to the most 'traditional' uniform mesh. "
   ]
  },
  {
   "cell_type": "code",
   "execution_count": 10,
   "metadata": {
    "tags": [
     "hide-cell"
    ]
   },
   "outputs": [
    {
     "data": {
      "text/plain": [
       "<matplotlib.legend.Legend at 0x7f7e01cbeac0>"
      ]
     },
     "execution_count": 10,
     "metadata": {},
     "output_type": "execute_result"
    },
    {
     "data": {
      "image/png": "[encoded data removed]",
      "text/plain": [
       "<Figure size 468x360 with 1 Axes>"
      ]
     },
     "metadata": {
      "needs_background": "light"
     },
     "output_type": "display_data"
    }
   ],
   "source": [
    "import numpy as np\n",
    "import matplotlib.pyplot as plt\n",
    "\n",
    "# Some options to make the plot nice\n",
    "plt.rcParams['font.size'] = 18\n",
    "plt.rcParams['font.family'] = \"serif\"\n",
    "plt.rcParams['text.usetex'] = False\n",
    "plt.rcParams['xtick.major.size'] = 7.0\n",
    "plt.rcParams['xtick.minor.size'] = 4.\n",
    "plt.rcParams['ytick.major.size'] = 7.0\n",
    "plt.rcParams['ytick.minor.size'] = 4.\n",
    "plt.rcParams['axes.linewidth'] = 1.2\n",
    "plt.rcParams['legend.fontsize'] = 15\n",
    "\n",
    "# Directional sampling\n",
    "raman_new = np.array([18.445, 19.943, 20.442, 20.442])\n",
    "kpoints_new = np.array([3*6*6, 3*12*12, 3*24*24, 3*58*58])\n",
    "\n",
    "# Uniform sampling\n",
    "raman = np.array([15.610, 18.762, 20.436])\n",
    "kpoints = np.array([3*3*3, 6*6*6, 12*12*12])\n",
    "\n",
    "# Plotting\n",
    "fig, ax = plt.subplots(figsize=(6.5,5)) # dichiaro il canvas e i subplots    \n",
    "\n",
    "ax.plot(kpoints_new, raman_new, color='red', marker='o', fillstyle='none', ms=10, linewidth=1.5, linestyle='-', label='Directional sampling')  \n",
    "ax.plot(kpoints, raman, color='black', marker='o', fillstyle='none', ms=10, linewidth=1.5, linestyle='-', label='Uniform sampling')  \n",
    "ax.set_xlabel('# k points')  \n",
    "ax.set_ylabel(r'Raman tensor ($\\AA^2$)')\n",
    "ax.legend(bbox_to_anchor=(0., 1.02, 1., .102), loc='lower left',\n",
    "           ncol=1, mode=\"expand\", borderaxespad=0., frameon=False)\n",
    "\n",
    "# plt.show()"
   ]
  },
  {
   "attachments": {},
   "cell_type": "markdown",
   "metadata": {},
   "source": [
    "## Final considerations\n",
    "\n",
    "We managed to compute the Raman spectra of silicon __fully__ ___ab initio___! :tada:\n",
    "\n",
    "While for silicon the spectra is trivial, have a look to the [tutorial on different functionals](5_iraman_functionals), where you will see the power of using extended Hubbard functionals.\n",
    "\n",
    ":::{admonition} Learn more and in details\n",
    ":class: hint\n",
    "\n",
    "To learn the full sets of inputs, to use proficiently the `get_builder_from_protocol` and more, have a look at the following sections:\n",
    "- [Specific how tos](howto/workflows/spectra/iraman.md)\n",
    "- [General information of the implemented workchain](topics/workflows/spectra/iraman.md)"
   ]
  },
  {
   "cell_type": "markdown",
   "metadata": {},
   "source": []
  }
 ],
 "metadata": {
  "kernelspec": {
   "display_name": "base",
   "language": "python",
   "name": "python3"
  },
  "language_info": {
   "codemirror_mode": {
    "name": "ipython",
    "version": 3
   },
   "file_extension": ".py",
   "mimetype": "text/x-python",
   "name": "python",
   "nbconvert_exporter": "python",
   "pygments_lexer": "ipython3",
   "version": "3.8.10"
  },
  "orig_nbformat": 4,
  "vscode": {
   "interpreter": {
    "hash": "d4d1e4263499bec80672ea0156c357c1ee493ec2b1c70f0acce89fc37c4a6abe"
   }
  }
 },
 "nbformat": 4,
 "nbformat_minor": 2
}
