{
 "cells": [
  {
   "attachments": {},
   "cell_type": "markdown",
   "metadata": {},
   "source": [
    "\n",
    "(tutorials-polar)=\n",
    "\n",
    "# Phonon and dielectric properties of AlAs\n",
    "\n",
    "In this tutorial you will learn how to calculate the phonon and dielectric properties of AlAs using `aiida-vibroscopy`.\n",
    "\n",
    "Let's get started!"
   ]
  },
  {
   "cell_type": "code",
   "execution_count": 15,
   "metadata": {
    "tags": [
     "hide-cell"
    ]
   },
   "outputs": [],
   "source": [
    "from local_module import load_temp_profile\n",
    "\n",
    "# If you download this file, you can run it with your own profile.\n",
    "# Put these lines instead:\n",
    "# from aiida import load_profile\n",
    "# load_profile()\n",
    "data = load_temp_profile(\n",
    "    name=\"polar-tutorial\",\n",
    "    add_computer=True,\n",
    "    add_pw_code=True,\n",
    "    add_phonopy_code=True,\n",
    "    add_sssp=True,\n",
    ")"
   ]
  },
  {
   "attachments": {},
   "cell_type": "markdown",
   "metadata": {},
   "source": [
    "## Importing the structure from COD\n",
    "\n",
    "Let's import the silicon structure from the COD database via AiiDA."
   ]
  },
  {
   "cell_type": "code",
   "execution_count": 16,
   "metadata": {},
   "outputs": [],
   "source": [
    "from aiida.plugins import DbImporterFactory\n",
    "\n",
    "CodDbImporter = DbImporterFactory('cod')\n",
    "\n",
    "cod = CodDbImporter()\n",
    "results = cod.query(id='1540257') # AlAs 1540257\n",
    "structure = results[0].get_aiida_structure() # it has 8 atoms"
   ]
  },
  {
   "attachments": {},
   "cell_type": "markdown",
   "metadata": {},
   "source": [
    "\n",
    "## The `HarmonicWorkChain`\n",
    "\n",
    "For polar materials, the __non-analytical constants__ (NAC), i.e. Born effective charges and dielectric tensors, must be accounted when interpolating the phonon band structure. Moreover in AlAs, since it is non-centrosymmetric, a non zero $\\chi^{(2)}$ is present.\n",
    "\n",
    "Let's import the WorkChain and run it! We use the `get_builder_from_protocol` to get a __prefilled__ builder with __all inputs__. These inputs should be considered __not as converged parameters__, but as a good starting point. You may also need to tweak some parameters, e.g. add magnetization etc., depending on your case. "
   ]
  },
  {
   "cell_type": "code",
   "execution_count": 17,
   "metadata": {
    "tags": [
     "remove-stdout"
    ]
   },
   "outputs": [
    {
     "name": "stdout",
     "output_type": "stream",
     "text": [
      "\u001b[34m\u001b[1mReport\u001b[0m: [325|HarmonicWorkChain|run_phonon]: submitting `PhononWorkChain` <PK=331>\n",
      "\u001b[34m\u001b[1mReport\u001b[0m: [325|HarmonicWorkChain|run_dielectric]: submitting `DielectricWorkChain` <PK=335>\n",
      "\u001b[34m\u001b[1mReport\u001b[0m: [335|DielectricWorkChain|run_base_scf]: launching base scf PwBaseWorkChain<348>\n",
      "\u001b[34m\u001b[1mReport\u001b[0m: [348|PwBaseWorkChain|run_process]: launching PwCalculation<352> iteration #1\n",
      "\u001b[34m\u001b[1mReport\u001b[0m: [331|PhononWorkChain|run_base_supercell]: launching base supercell scf PwBaseWorkChain<357>\n",
      "\u001b[34m\u001b[1mReport\u001b[0m: [357|PwBaseWorkChain|run_process]: launching PwCalculation<360> iteration #1\n",
      "\u001b[34m\u001b[1mReport\u001b[0m: [348|PwBaseWorkChain|results]: work chain completed after 1 iterations\n",
      "\u001b[34m\u001b[1mReport\u001b[0m: [348|PwBaseWorkChain|on_terminated]: remote folders will not be cleaned\n",
      "\u001b[34m\u001b[1mReport\u001b[0m: [335|DielectricWorkChain|run_nscf]: launching base scf PwBaseWorkChain<369>\n",
      "\u001b[34m\u001b[1mReport\u001b[0m: [369|PwBaseWorkChain|run_process]: launching PwCalculation<372> iteration #1\n",
      "\u001b[34m\u001b[1mReport\u001b[0m: [357|PwBaseWorkChain|results]: work chain completed after 1 iterations\n",
      "\u001b[34m\u001b[1mReport\u001b[0m: [357|PwBaseWorkChain|on_terminated]: remote folders will not be cleaned\n",
      "\u001b[34m\u001b[1mReport\u001b[0m: [331|PhononWorkChain|run_forces]: submitting `PwBaseWorkChain` <PK=382> with supercell n.o 1\n",
      "\u001b[34m\u001b[1mReport\u001b[0m: [331|PhononWorkChain|run_forces]: submitting `PwBaseWorkChain` <PK=384> with supercell n.o 2\n",
      "\u001b[34m\u001b[1mReport\u001b[0m: [382|PwBaseWorkChain|run_process]: launching PwCalculation<387> iteration #1\n",
      "\u001b[34m\u001b[1mReport\u001b[0m: [384|PwBaseWorkChain|run_process]: launching PwCalculation<390> iteration #1\n",
      "\u001b[34m\u001b[1mReport\u001b[0m: [369|PwBaseWorkChain|results]: work chain completed after 1 iterations\n",
      "\u001b[34m\u001b[1mReport\u001b[0m: [369|PwBaseWorkChain|on_terminated]: remote folders will not be cleaned\n",
      "\u001b[34m\u001b[1mReport\u001b[0m: [335|DielectricWorkChain|run_null_field_scfs]: launching PwBaseWorkChain<405> with null electric field 0\n",
      "\u001b[34m\u001b[1mReport\u001b[0m: [335|DielectricWorkChain|run_null_field_scfs]: launching PwBaseWorkChain<406> with null electric field 1\n",
      "\u001b[34m\u001b[1mReport\u001b[0m: [405|PwBaseWorkChain|run_process]: launching PwCalculation<409> iteration #1\n",
      "\u001b[34m\u001b[1mReport\u001b[0m: [406|PwBaseWorkChain|run_process]: launching PwCalculation<412> iteration #1\n",
      "\u001b[34m\u001b[1mReport\u001b[0m: [382|PwBaseWorkChain|results]: work chain completed after 1 iterations\n",
      "\u001b[34m\u001b[1mReport\u001b[0m: [382|PwBaseWorkChain|on_terminated]: cleaned remote folders of calculations: 387\n",
      "\u001b[34m\u001b[1mReport\u001b[0m: [384|PwBaseWorkChain|results]: work chain completed after 1 iterations\n",
      "\u001b[34m\u001b[1mReport\u001b[0m: [384|PwBaseWorkChain|on_terminated]: cleaned remote folders of calculations: 390\n",
      "\u001b[34m\u001b[1mReport\u001b[0m: [331|PhononWorkChain|on_terminated]: cleaned remote folders of calculations: 360 387 390\n",
      "\u001b[34m\u001b[1mReport\u001b[0m: [405|PwBaseWorkChain|results]: work chain completed after 1 iterations\n",
      "\u001b[34m\u001b[1mReport\u001b[0m: [405|PwBaseWorkChain|on_terminated]: remote folders will not be cleaned\n",
      "\u001b[34m\u001b[1mReport\u001b[0m: [406|PwBaseWorkChain|results]: work chain completed after 1 iterations\n",
      "\u001b[34m\u001b[1mReport\u001b[0m: [406|PwBaseWorkChain|on_terminated]: remote folders will not be cleaned\n",
      "\u001b[34m\u001b[1mReport\u001b[0m: [335|DielectricWorkChain|run_electric_field_scfs]: launching PwBaseWorkChain<436> with electric field index 2 and sign 1.0 iteration #0\n",
      "\u001b[34m\u001b[1mReport\u001b[0m: [335|DielectricWorkChain|run_electric_field_scfs]: launching PwBaseWorkChain<439> with electric field index 3 and sign 1.0 iteration #0\n",
      "\u001b[34m\u001b[1mReport\u001b[0m: [436|PwBaseWorkChain|run_process]: launching PwCalculation<442> iteration #1\n",
      "\u001b[34m\u001b[1mReport\u001b[0m: [439|PwBaseWorkChain|run_process]: launching PwCalculation<445> iteration #1\n",
      "\u001b[34m\u001b[1mReport\u001b[0m: [436|PwBaseWorkChain|results]: work chain completed after 1 iterations\n",
      "\u001b[34m\u001b[1mReport\u001b[0m: [436|PwBaseWorkChain|on_terminated]: remote folders will not be cleaned\n",
      "\u001b[34m\u001b[1mReport\u001b[0m: [439|PwBaseWorkChain|results]: work chain completed after 1 iterations\n",
      "\u001b[34m\u001b[1mReport\u001b[0m: [439|PwBaseWorkChain|on_terminated]: remote folders will not be cleaned\n",
      "\u001b[34m\u001b[1mReport\u001b[0m: [335|DielectricWorkChain|run_electric_field_scfs]: launching PwBaseWorkChain<458> with electric field index 2 and sign 1.0 iteration #1\n",
      "\u001b[34m\u001b[1mReport\u001b[0m: [335|DielectricWorkChain|run_electric_field_scfs]: launching PwBaseWorkChain<461> with electric field index 3 and sign 1.0 iteration #1\n",
      "\u001b[34m\u001b[1mReport\u001b[0m: [458|PwBaseWorkChain|run_process]: launching PwCalculation<464> iteration #1\n",
      "\u001b[34m\u001b[1mReport\u001b[0m: [461|PwBaseWorkChain|run_process]: launching PwCalculation<467> iteration #1\n",
      "\u001b[34m\u001b[1mReport\u001b[0m: [458|PwBaseWorkChain|results]: work chain completed after 1 iterations\n",
      "\u001b[34m\u001b[1mReport\u001b[0m: [458|PwBaseWorkChain|on_terminated]: remote folders will not be cleaned\n",
      "\u001b[34m\u001b[1mReport\u001b[0m: [461|PwBaseWorkChain|results]: work chain completed after 1 iterations\n",
      "\u001b[34m\u001b[1mReport\u001b[0m: [461|PwBaseWorkChain|on_terminated]: remote folders will not be cleaned\n",
      "\u001b[34m\u001b[1mReport\u001b[0m: [335|DielectricWorkChain|run_numerical_derivatives]: launching NumericalDerivativesWorkChain<485> for computing numerical derivatives.\n"
     ]
    },
    {
     "name": "stderr",
     "output_type": "stream",
     "text": [
      "/aiida-plugins/aiida-vibroscopy/src/aiida_vibroscopy/calculations/symmetry.py:162: UserWarning: Symmetry of dChi/dr tensors is largely broken. \n",
      "The max difference is:\n",
      "12.88765439365443\n",
      "  warnings.warn('\\n'.join(lines))\n",
      "/aiida-plugins/aiida-vibroscopy/src/aiida_vibroscopy/calculations/symmetry.py:162: UserWarning: Symmetry of dChi/dr tensors is largely broken. \n",
      "The max difference is:\n",
      "117.75652293854249\n",
      "  warnings.warn('\\n'.join(lines))\n",
      "/aiida-plugins/aiida-vibroscopy/src/aiida_vibroscopy/calculations/symmetry.py:162: UserWarning: Symmetry of dChi/dr tensors is largely broken. \n",
      "The max difference is:\n",
      "153.75196663153494\n",
      "  warnings.warn('\\n'.join(lines))\n"
     ]
    },
    {
     "name": "stdout",
     "output_type": "stream",
     "text": [
      "\u001b[34m\u001b[1mReport\u001b[0m: [335|DielectricWorkChain|on_terminated]: cleaned remote folders of calculations: 352 372 409 412 442 445 464 467\n",
      "\u001b[34m\u001b[1mReport\u001b[0m: [325|HarmonicWorkChain|run_phonopy]: submitting `PhonopyCalculation` <PK=515>\n",
      "\u001b[34m\u001b[1mReport\u001b[0m: [325|HarmonicWorkChain|on_terminated]: cleaned remote folders of calculations: 360 387 390 352 372 409 412 442 445 464 467 515\n"
     ]
    }
   ],
   "source": [
    "from aiida.orm import List\n",
    "from aiida.plugins import WorkflowFactory\n",
    "from aiida.engine import run_get_node\n",
    "\n",
    "from aiida_vibroscopy.common.properties import PhononProperty\n",
    "\n",
    "HarmonicWorkChain = WorkflowFactory(\"vibroscopy.phonons.harmonic\")\n",
    "\n",
    "builder = HarmonicWorkChain.get_builder_from_protocol(\n",
    "    pw_code=data.pw_code,\n",
    "    structure=structure,\n",
    "    protocol=\"fast\",\n",
    "    phonopy_code=data.phonopy_code,\n",
    "    phonon_property=PhononProperty.BANDS,\n",
    ")\n",
    "builder.phonon.supercell_matrix = List([1,1,1]) # this can be 2,2,2, but we save some time JUST FOR THE TUTORIAL\n",
    "builder.dielectric.property = \"raman\" # this way it will compute also third order derivatives\n",
    "\n",
    "results, calc = run_get_node(builder)"
   ]
  },
  {
   "attachments": {},
   "cell_type": "markdown",
   "metadata": {},
   "source": [
    "As we computed the __phonon dispersion__, we can easily plot it as follows:"
   ]
  },
  {
   "cell_type": "code",
   "execution_count": 18,
   "metadata": {},
   "outputs": [
    {
     "data": {
      "image/png": "[encoded data removed]",
      "text/plain": [
       "<Figure size 432x288 with 1 Axes>"
      ]
     },
     "metadata": {
      "needs_background": "light"
     },
     "output_type": "display_data"
    }
   ],
   "source": [
    "calc.outputs.output_phonopy.phonon_bands.show_mpl()"
   ]
  },
  {
   "attachments": {},
   "cell_type": "markdown",
   "metadata": {},
   "source": [
    "Hurray! We obtained the LO-TO splitting at the $\\Gamma$ point!"
   ]
  },
  {
   "attachments": {},
   "cell_type": "markdown",
   "metadata": {},
   "source": [
    "## Born charges, dielectric, non-linear optical susceptibility and Raman tensors\n",
    "\n",
    "We finally can explore all the electric field related derivatives for this material."
   ]
  },
  {
   "cell_type": "code",
   "execution_count": 19,
   "metadata": {},
   "outputs": [
    {
     "name": "stdout",
     "output_type": "stream",
     "text": [
      "The Born effective charges:  \n",
      " [[[ 2.14436  0.       0.     ]\n",
      "  [-0.       2.14436 -0.     ]\n",
      "  [-0.      -0.       2.14436]]\n",
      "\n",
      " [[-2.14436 -0.      -0.     ]\n",
      "  [ 0.      -2.14436 -0.     ]\n",
      "  [ 0.       0.      -2.14436]]]\n"
     ]
    }
   ],
   "source": [
    "vibro = calc.outputs.vibrational_data.numerical_accuracy_4\n",
    "print(\"The Born effective charges: \", \"\\n\", vibro.born_charges.round(5))"
   ]
  },
  {
   "cell_type": "code",
   "execution_count": 20,
   "metadata": {},
   "outputs": [
    {
     "name": "stdout",
     "output_type": "stream",
     "text": [
      "The dielectric tensor:  \n",
      " [[ 8.38413 -0.      -0.     ]\n",
      " [-0.       8.38413  0.     ]\n",
      " [-0.      -0.       8.38413]]\n"
     ]
    }
   ],
   "source": [
    "print(\"The dielectric tensor: \", \"\\n\", vibro.dielectric.round(5))"
   ]
  },
  {
   "cell_type": "code",
   "execution_count": 21,
   "metadata": {},
   "outputs": [
    {
     "name": "stdout",
     "output_type": "stream",
     "text": [
      "The non-linear optical susceptibility tensor (pm/V):  \n",
      " [[[-0.       0.       0.     ]\n",
      "  [ 0.       0.      42.46219]\n",
      "  [ 0.      42.46219  0.     ]]\n",
      "\n",
      " [[-0.       0.      42.46219]\n",
      "  [ 0.       0.       0.     ]\n",
      "  [42.46219  0.       0.     ]]\n",
      "\n",
      " [[ 0.      42.46219  0.     ]\n",
      "  [42.46219  0.       0.     ]\n",
      "  [ 0.       0.       0.     ]]]\n"
     ]
    }
   ],
   "source": [
    "print(\"The non-linear optical susceptibility tensor (pm/V): \", \"\\n\", vibro.nlo_susceptibility.round(5))"
   ]
  },
  {
   "cell_type": "code",
   "execution_count": 22,
   "metadata": {},
   "outputs": [
    {
     "name": "stdout",
     "output_type": "stream",
     "text": [
      "The Raman tensors (Angstrom^2):  \n",
      " [[[[ 0.         -0.         -0.        ]\n",
      "   [-0.         -0.         -6.38522341]\n",
      "   [-0.         -6.38522341 -0.        ]]\n",
      "\n",
      "  [[-0.         -0.         -6.38522341]\n",
      "   [-0.         -0.          0.        ]\n",
      "   [-6.38522341  0.         -0.        ]]\n",
      "\n",
      "  [[-0.         -6.38522341 -0.        ]\n",
      "   [-6.38522341 -0.         -0.        ]\n",
      "   [-0.         -0.         -0.        ]]]\n",
      "\n",
      "\n",
      " [[[-0.         -0.          0.        ]\n",
      "   [-0.          0.          6.38522341]\n",
      "   [ 0.          6.38522341  0.        ]]\n",
      "\n",
      "  [[ 0.         -0.          6.38522341]\n",
      "   [-0.         -0.         -0.        ]\n",
      "   [ 6.38522341 -0.          0.        ]]\n",
      "\n",
      "  [[ 0.          6.38522341  0.        ]\n",
      "   [ 6.38522341 -0.          0.        ]\n",
      "   [ 0.          0.          0.        ]]]]\n"
     ]
    }
   ],
   "source": [
    "vol = vibro.get_unitcell().get_cell_volume()\n",
    "print(\"The Raman tensors (Angstrom^2): \", \"\\n\", vibro.raman_tensors.round(5)*vol)"
   ]
  },
  {
   "attachments": {},
   "cell_type": "markdown",
   "metadata": {},
   "source": [
    "## Comparison with experiments\n",
    "\n",
    "Here the comparison with experiments. (have a look at [I. Souza et al., _Phys. Rev. Lett._, __89__, 11 (__2002__)](https://journals.aps.org/prl/abstract/10.1103/PhysRevLett.89.117602) and references therein)"
   ]
  },
  {
   "cell_type": "code",
   "execution_count": 23,
   "metadata": {},
   "outputs": [
    {
     "name": "stdout",
     "output_type": "stream",
     "text": [
      "Dielectric:  \n",
      " DFT:  8.4 \tExperiment: 9.6\n"
     ]
    }
   ],
   "source": [
    "print(\"Dielectric: \", \"\\n\", \"DFT: \", vibro.dielectric.round(1)[0,0], \"\\tExperiment: 9.6\")"
   ]
  },
  {
   "cell_type": "code",
   "execution_count": 24,
   "metadata": {},
   "outputs": [
    {
     "name": "stdout",
     "output_type": "stream",
     "text": [
      "Born charges*:  \n",
      " DFT:  2.14 \tExperiment: 2.14\n"
     ]
    }
   ],
   "source": [
    "print(\"Born charges*: \", \"\\n\", \"DFT: \", vibro.born_charges.round(2)[0,0,0], \"\\tExperiment: 2.14\")"
   ]
  },
  {
   "cell_type": "code",
   "execution_count": 25,
   "metadata": {},
   "outputs": [
    {
     "name": "stdout",
     "output_type": "stream",
     "text": [
      "Non-linear optical susceptibility (pm/V):  \n",
      " DFT:  42.0 \tExperiment: 64\n"
     ]
    }
   ],
   "source": [
    "print(\"Non-linear optical susceptibility (pm/V): \", \"\\n\", \"DFT: \", vibro.nlo_susceptibility.round(0)[0,1,2], \"\\tExperiment: 64\")"
   ]
  },
  {
   "attachments": {},
   "cell_type": "markdown",
   "metadata": {},
   "source": [
    "### Raman polarizability\n",
    "\n",
    "We can also obtain the Raman polarizability tensor, both for the TO and LO modes. We can only compare with other DFT results, cause there are no available experimental data."
   ]
  },
  {
   "cell_type": "code",
   "execution_count": 29,
   "metadata": {},
   "outputs": [
    {
     "name": "stdout",
     "output_type": "stream",
     "text": [
      "TO Raman polarizability tensor (Angstrom^2):  \n",
      " DFT:  6.39 \tVeithen et al. (2005): 8.48\n"
     ]
    }
   ],
   "source": [
    "print(\"TO Raman polarizability tensor (Angstrom^2): \", \"\\n\", \"DFT: \", (vibro.raman_tensors[1,0,1,2]*vol).round(2), \"\\tVeithen et al. (2005): 8.48\")"
   ]
  },
  {
   "cell_type": "code",
   "execution_count": 27,
   "metadata": {},
   "outputs": [
    {
     "name": "stdout",
     "output_type": "stream",
     "text": [
      "LO Raman polarizability tensor (Angstrom^2):  \n",
      " DFT:  16.74 \tVeithen et al. (2005): 12.48\n"
     ]
    }
   ],
   "source": [
    "import numpy as np\n",
    "\n",
    "alpha, _, _ = vibro.run_raman_susceptibility_tensors(nac_direction=[1,1,0])\n",
    "reduced_mass = (26.981539*74.9216)/(26.981539+74.9216)\n",
    "prefactor = np.sqrt(reduced_mass*vol)\n",
    "alpha = alpha*prefactor\n",
    "\n",
    "print(\"LO Raman polarizability tensor (Angstrom^2): \", \"\\n\", \"DFT: \", -alpha[2,0,1].round(2), \"\\tVeithen et al. (2005): 12.48\")"
   ]
  },
  {
   "attachments": {},
   "cell_type": "markdown",
   "metadata": {},
   "source": [
    "::: {note} Why do our results differ from the one of Veithen?\n",
    ":class: dropdown\n",
    "\n",
    "The reason why we have discrepancies is mostly due to the fact we have _unconverged_ results. These tensors, being a third order derivative of the total energy, usually require a much denser k point sampling. Moreover, we also did not do the followings:\n",
    "- A tight relaxation of the cell; volume can modify significantly these properties.\n",
    "- Used the same functional as in other simulations, which eventually leads to different results.\n",
    "- Used a proper set of inputs: it's just a tutorial, and we don't want to wait forever (i.e. 5 minutes are too much already).\n",
    ":::"
   ]
  },
  {
   "attachments": {},
   "cell_type": "markdown",
   "metadata": {},
   "source": [
    "## Analysing the workflow\n",
    "\n",
    "Many things happened for computing this phonon band structure. Let's inspect the process tree."
   ]
  },
  {
   "cell_type": "code",
   "execution_count": 28,
   "metadata": {},
   "outputs": [
    {
     "name": "stdout",
     "output_type": "stream",
     "text": [
      "\u001b[22mHarmonicWorkChain<325> Finished [0] [4:if_(should_run_phonopy)(1:inspect_phonopy)]\n",
      "    ├── generate_preprocess_data<326> Finished [0]\n",
      "    ├── PhononWorkChain<331> Finished [0] [7:if_(should_run_phonopy)]\n",
      "    │   ├── generate_preprocess_data<336> Finished [0]\n",
      "    │   ├── get_supercell<349> Finished [0]\n",
      "    │   ├── create_kpoints_from_distance<354> Finished [0]\n",
      "    │   ├── PwBaseWorkChain<357> Finished [0] [3:results]\n",
      "    │   │   └── PwCalculation<360> Finished [0]\n",
      "    │   ├── get_supercells_with_displacements<378> Finished [0]\n",
      "    │   ├── PwBaseWorkChain<382> Finished [0] [3:results]\n",
      "    │   │   └── PwCalculation<387> Finished [0]\n",
      "    │   ├── PwBaseWorkChain<384> Finished [0] [3:results]\n",
      "    │   │   └── PwCalculation<390> Finished [0]\n",
      "    │   └── generate_phonopy_data<424> Finished [0]\n",
      "    ├── DielectricWorkChain<335> Finished [0] [11:results]\n",
      "    │   ├── create_kpoints_from_distance<337> Finished [0]\n",
      "    │   ├── create_directional_kpoints<341> Finished [0]\n",
      "    │   ├── create_directional_kpoints<344> Finished [0]\n",
      "    │   ├── PwBaseWorkChain<348> Finished [0] [3:results]\n",
      "    │   │   └── PwCalculation<352> Finished [0]\n",
      "    │   ├── PwBaseWorkChain<369> Finished [0] [3:results]\n",
      "    │   │   └── PwCalculation<372> Finished [0]\n",
      "    │   ├── compute_critical_electric_field<397> Finished [0]\n",
      "    │   ├── get_accuracy_from_critical_field<399> Finished [0]\n",
      "    │   ├── get_electric_field_step<401> Finished [0]\n",
      "    │   ├── PwBaseWorkChain<405> Finished [0] [3:results]\n",
      "    │   │   └── PwCalculation<409> Finished [0]\n",
      "    │   ├── PwBaseWorkChain<406> Finished [0] [3:results]\n",
      "    │   │   └── PwCalculation<412> Finished [0]\n",
      "    │   ├── PwBaseWorkChain<436> Finished [0] [3:results]\n",
      "    │   │   └── PwCalculation<442> Finished [0]\n",
      "    │   ├── PwBaseWorkChain<439> Finished [0] [3:results]\n",
      "    │   │   └── PwCalculation<445> Finished [0]\n",
      "    │   ├── PwBaseWorkChain<458> Finished [0] [3:results]\n",
      "    │   │   └── PwCalculation<464> Finished [0]\n",
      "    │   ├── PwBaseWorkChain<461> Finished [0] [3:results]\n",
      "    │   │   └── PwCalculation<467> Finished [0]\n",
      "    │   ├── subtract_residual_forces<480> Finished [0]\n",
      "    │   └── NumericalDerivativesWorkChain<485> Finished [0] [None]\n",
      "    │       ├── generate_preprocess_data<486> Finished [0]\n",
      "    │       ├── compute_nac_parameters<488> Finished [0]\n",
      "    │       ├── compute_susceptibility_derivatives<492> Finished [0]\n",
      "    │       ├── join_tensors<497> Finished [0]\n",
      "    │       ├── join_tensors<499> Finished [0]\n",
      "    │       └── join_tensors<501> Finished [0]\n",
      "    ├── elaborate_tensors<503> Finished [0]\n",
      "    ├── generate_vibrational_data_from_phonopy<505> Finished [0]\n",
      "    ├── elaborate_tensors<507> Finished [0]\n",
      "    ├── generate_vibrational_data_from_phonopy<509> Finished [0]\n",
      "    ├── elaborate_tensors<511> Finished [0]\n",
      "    ├── generate_vibrational_data_from_phonopy<513> Finished [0]\n",
      "    └── PhonopyCalculation<515> Finished [0]\u001b[0m\n"
     ]
    }
   ],
   "source": [
    "%verdi process status {calc.pk}"
   ]
  },
  {
   "attachments": {},
   "cell_type": "markdown",
   "metadata": {},
   "source": [
    "## Final considerations\n",
    "\n",
    "We managed to compute the phonons and dielectric properties of AlAs __fully__ ___ab initio___! :tada:\n",
    "\n",
    ":::{admonition} Learn more and in details\n",
    ":class: hint\n",
    "\n",
    "To learn the full sets of inputs, to use proficiently the `get_builder_from_protocol` and more, have a look at the following sections:\n",
    "- [Specific how tos](howto/workflows/phonons/harmonic.md)\n",
    "- [General information of the implemented workchain](topics/workflows/phonons/harmonic.md)"
   ]
  }
 ],
 "metadata": {
  "kernelspec": {
   "display_name": "base",
   "language": "python",
   "name": "python3"
  },
  "language_info": {
   "codemirror_mode": {
    "name": "ipython",
    "version": 3
   },
   "file_extension": ".py",
   "mimetype": "text/x-python",
   "name": "python",
   "nbconvert_exporter": "python",
   "pygments_lexer": "ipython3",
   "version": "3.8.10"
  },
  "orig_nbformat": 4,
  "vscode": {
   "interpreter": {
    "hash": "d4d1e4263499bec80672ea0156c357c1ee493ec2b1c70f0acce89fc37c4a6abe"
   }
  }
 },
 "nbformat": 4,
 "nbformat_minor": 2
}
