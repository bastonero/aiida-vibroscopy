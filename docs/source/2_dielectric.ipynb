{
 "cells": [
  {
   "attachments": {},
   "cell_type": "markdown",
   "metadata": {},
   "source": [
    "\n",
    "(tutorials-dielectric)=\n",
    "\n",
    "# Dielectric properties of Si\n",
    "\n",
    "In this tutorial you will learn how to calculate the high-frequency dielectric tensor of silicon using `aiida-vibroscopy`.\n",
    "\n",
    "In this tutorial we will make use of the silicon structure to give you an overall understanding of the usage of the package.\n",
    "If you are interested in more advanced features, please have a look at the [other tutorials](tutorials).\n",
    "\n",
    "Let's get started!"
   ]
  },
  {
   "attachments": {},
   "cell_type": "markdown",
   "metadata": {},
   "source": [
    "\n",
    "## Finite electric fields\n",
    "\n",
    "In the harmonic and Born-Oppenheimer approximation, the high-frequency dielectric tensor is defined as second order derivative of the polarization of the system in respect to an external electric field $\\mathcal{E}$.\n",
    "The polarization $\\mathbf{P}$ is computed via the modern theory of polarization, using a Berry phase formalism. An external electric field can still be applied, even though the Hamiltonian will result not bounded from below, and translational symmetry is broken (hence, in principle no Bloch's theorem).\n",
    "\n",
    "::: {note}\n",
    "All these difficulties were solved in the early 2000s. See:\n",
    "\n",
    "- Ivo Souza, Jorge Iniguez, and David Vanderbilt, Phys. Rev. Lett, __89__, 117602 (__2002__)\n",
    "- Paolo Umari and Alfredo Pasquarello, Phys. Rev. Lett, __89__, 157602 (__2002__)\n",
    ":::\n",
    "\n",
    "Extending the Kohn-Sham Hamiltonian, we can include the external electric field as follows:\n",
    "\n",
    "\\begin{equation}\n",
    "    \\mathcal{F}[\\{ \\psi \\}] \n",
    "    =\n",
    "    E_{KS}[\\rho]\n",
    "    - \\Omega \\mathbf{P}[\\{ \\psi \\}] \\cdot \\mathcal{E}\n",
    "\\end{equation}\n",
    "\n",
    "This extended functional is usually referred to as __electric enthalpy functional__.\n",
    "\n",
    "One subtlelty of this formalism is the slow convergence is respect to k points. In particular, to converge well the polarization operator, one has to sample with many k points the direction of the induced polarization (i.e. the direction of the applied electric field).\n",
    "\n",
    "In the following workflows, we will define the amount of k point in this direction through what we call __parallel distance__ between k points. This distance is used to define the number of k points. The smaller it is, the more points will be defined, hence more accurate results.\n",
    "\n",
    "The high-frequency dielectric tensor is computed like frozen phonons: forces become the polarization, atomic displacements become the electric field step. In the {{ dielwc }}, this step can either be automatically chosen or set manually.\n",
    "\n",
    "::: {important}\n",
    "It is fundamental that the electric field step is properly chosen. In fact, only values below the __critical electric field__ $\\mathcal{E}_c$ can be chosen. An estimate of such value can be done knowing the amount of k points and the band gap of the material. \n",
    "\n",
    "\\begin{equation}\n",
    "    \\mathcal{E}_c \\approx \\frac{E_{gap} }{e \\cdot a \\cdot N_k }\n",
    "\\end{equation}\n",
    "\n",
    "Thus, increasing the number of k points signifies a lower critical field, hence we are allowed to use smaller field steps. As a consequence, trade off with convergence must be made. Nevertheless, for the majority of cases this does not represent a limitation.\n",
    ":::"
   ]
  },
  {
   "cell_type": "code",
   "execution_count": 1,
   "metadata": {
    "tags": [
     "hide-cell"
    ]
   },
   "outputs": [],
   "source": [
    "from local_module import load_temp_profile\n",
    "\n",
    "# If you download this file, you can run it with your own profile.\n",
    "# Put these lines instead:\n",
    "# from aiida import load_profile\n",
    "# load_profile()\n",
    "data = load_temp_profile(\n",
    "    name=\"dielectric-tutorial\",\n",
    "    add_computer=True,\n",
    "    add_pw_code=True,\n",
    "    add_sssp=True,\n",
    ")"
   ]
  },
  {
   "attachments": {},
   "cell_type": "markdown",
   "metadata": {},
   "source": [
    "\n",
    "## The `DielectricWorkChain`\n",
    "\n",
    "As for phonons, we need to compute different ground-states with different displacements, in this case different directions of the electric field. We can use the {{ dielwc }} to do this in automated fashion.\n",
    "\n",
    ":::{note}\n",
    ":class: dropdown\n",
    "\n",
    "As again for phonons, also the dielectric properties can be computed in the _linear regime_ as perturbative respones of the system. Quantum ESPRESSO can carry out such simulation using the __PHonon__ code (`ph.x` routine). Nevertheless, not all functionals are implemented. For example, DFT+U(+V) using ortho-atomic projectors is not implemented.\n",
    ":::\n",
    "\n",
    "Let's import the WorkChain and run it! We use the `get_builder_from_protocol` to get a __prefilled__ builder with __all inputs__. \n",
    "\n",
    "::: {note}\n",
    "These inputs should be considered __not as converged parameters__, but as a good starting point. You may also need to tweak some parameters, e.g. add magnetization etc., depending on your case. \n",
    ":::"
   ]
  },
  {
   "cell_type": "code",
   "execution_count": 2,
   "metadata": {
    "tags": [
     "hide-cell"
    ]
   },
   "outputs": [],
   "source": [
    "from aiida.plugins import DbImporterFactory\n",
    "\n",
    "CodDbImporter = DbImporterFactory('cod')\n",
    "\n",
    "cod = CodDbImporter()\n",
    "results = cod.query(id='1526655') # Si   1526655\n",
    "structure = results[0].get_aiida_structure() # it has 8 atoms"
   ]
  },
  {
   "cell_type": "code",
   "execution_count": 3,
   "metadata": {
    "tags": [
     "hide-output"
    ]
   },
   "outputs": [
    {
     "name": "stderr",
     "output_type": "stream",
     "text": [
      "05/24/2023 11:02:04 AM <4148633> aiida.orm.nodes.process.workflow.workchain.WorkChainNode: [REPORT] [98|DielectricWorkChain|run_base_scf]: launching base scf PwBaseWorkChain<106>\n",
      "05/24/2023 11:02:04 AM <4148633> aiida.orm.nodes.process.workflow.workchain.WorkChainNode: [REPORT] [106|PwBaseWorkChain|run_process]: launching PwCalculation<109> iteration #1\n",
      "05/24/2023 11:02:11 AM <4148633> aiida.orm.nodes.process.workflow.workchain.WorkChainNode: [REPORT] [106|PwBaseWorkChain|sanity_check_insufficient_bands]: PwCalculation<109> run with smearing and highest band is occupied\n",
      "05/24/2023 11:02:11 AM <4148633> aiida.orm.nodes.process.workflow.workchain.WorkChainNode: [REPORT] [106|PwBaseWorkChain|sanity_check_insufficient_bands]: BandsData<112> has invalid occupations: Occupation of 0.00930717805266601 at last band lkn<0,0,20>\n",
      "05/24/2023 11:02:11 AM <4148633> aiida.orm.nodes.process.workflow.workchain.WorkChainNode: [REPORT] [106|PwBaseWorkChain|sanity_check_insufficient_bands]: PwCalculation<109> had insufficient bands\n",
      "05/24/2023 11:02:11 AM <4148633> aiida.orm.nodes.process.workflow.workchain.WorkChainNode: [REPORT] [106|PwBaseWorkChain|sanity_check_insufficient_bands]: Action taken: increased number of bands to 24 and restarting from the previous charge density.\n",
      "05/24/2023 11:02:11 AM <4148633> aiida.orm.nodes.process.workflow.workchain.WorkChainNode: [REPORT] [106|PwBaseWorkChain|inspect_process]: PwCalculation<109> finished successfully but a handler was triggered, restarting\n",
      "05/24/2023 11:02:11 AM <4148633> aiida.orm.nodes.process.workflow.workchain.WorkChainNode: [REPORT] [106|PwBaseWorkChain|run_process]: launching PwCalculation<117> iteration #2\n",
      "05/24/2023 11:02:18 AM <4148633> aiida.orm.nodes.process.workflow.workchain.WorkChainNode: [REPORT] [106|PwBaseWorkChain|results]: work chain completed after 2 iterations\n",
      "05/24/2023 11:02:18 AM <4148633> aiida.orm.nodes.process.workflow.workchain.WorkChainNode: [REPORT] [106|PwBaseWorkChain|on_terminated]: remote folders will not be cleaned\n",
      "05/24/2023 11:02:19 AM <4148633> aiida.orm.nodes.process.workflow.workchain.WorkChainNode: [REPORT] [98|DielectricWorkChain|run_nscf]: launching base scf PwBaseWorkChain<125>\n",
      "05/24/2023 11:02:19 AM <4148633> aiida.orm.nodes.process.workflow.workchain.WorkChainNode: [REPORT] [125|PwBaseWorkChain|run_process]: launching PwCalculation<128> iteration #1\n",
      "05/24/2023 11:02:34 AM <4148633> aiida.orm.nodes.process.workflow.workchain.WorkChainNode: [REPORT] [125|PwBaseWorkChain|results]: work chain completed after 1 iterations\n",
      "05/24/2023 11:02:34 AM <4148633> aiida.orm.nodes.process.workflow.workchain.WorkChainNode: [REPORT] [125|PwBaseWorkChain|on_terminated]: remote folders will not be cleaned\n",
      "05/24/2023 11:02:35 AM <4148633> aiida.orm.nodes.process.workflow.workchain.WorkChainNode: [REPORT] [98|DielectricWorkChain|run_null_field_scfs]: launching PwBaseWorkChain<142> with null electric field 0\n",
      "05/24/2023 11:02:36 AM <4148633> aiida.orm.nodes.process.workflow.workchain.WorkChainNode: [REPORT] [142|PwBaseWorkChain|run_process]: launching PwCalculation<145> iteration #1\n",
      "05/24/2023 11:03:03 AM <4148633> aiida.orm.nodes.process.workflow.workchain.WorkChainNode: [REPORT] [142|PwBaseWorkChain|results]: work chain completed after 1 iterations\n",
      "05/24/2023 11:03:03 AM <4148633> aiida.orm.nodes.process.workflow.workchain.WorkChainNode: [REPORT] [142|PwBaseWorkChain|on_terminated]: remote folders will not be cleaned\n",
      "05/24/2023 11:03:04 AM <4148633> aiida.orm.nodes.process.workflow.workchain.WorkChainNode: [REPORT] [98|DielectricWorkChain|run_electric_field_scfs]: launching PwBaseWorkChain<153> with electric field index 2 and sign 1.0 iteration #0\n",
      "05/24/2023 11:03:06 AM <4148633> aiida.orm.nodes.process.workflow.workchain.WorkChainNode: [REPORT] [153|PwBaseWorkChain|run_process]: launching PwCalculation<156> iteration #1\n",
      "05/24/2023 11:07:27 AM <4148633> aiida.orm.nodes.process.workflow.workchain.WorkChainNode: [REPORT] [153|PwBaseWorkChain|results]: work chain completed after 1 iterations\n",
      "05/24/2023 11:07:27 AM <4148633> aiida.orm.nodes.process.workflow.workchain.WorkChainNode: [REPORT] [153|PwBaseWorkChain|on_terminated]: remote folders will not be cleaned\n",
      "05/24/2023 11:07:29 AM <4148633> aiida.orm.nodes.process.workflow.workchain.WorkChainNode: [REPORT] [98|DielectricWorkChain|run_electric_field_scfs]: launching PwBaseWorkChain<164> with electric field index 2 and sign 1.0 iteration #1\n",
      "05/24/2023 11:07:31 AM <4148633> aiida.orm.nodes.process.workflow.workchain.WorkChainNode: [REPORT] [164|PwBaseWorkChain|run_process]: launching PwCalculation<167> iteration #1\n",
      "05/24/2023 11:14:32 AM <4148633> aiida.orm.nodes.process.workflow.workchain.WorkChainNode: [REPORT] [164|PwBaseWorkChain|results]: work chain completed after 1 iterations\n",
      "05/24/2023 11:14:32 AM <4148633> aiida.orm.nodes.process.workflow.workchain.WorkChainNode: [REPORT] [164|PwBaseWorkChain|on_terminated]: remote folders will not be cleaned\n",
      "05/24/2023 11:14:35 AM <4148633> aiida.orm.nodes.process.workflow.workchain.WorkChainNode: [REPORT] [98|DielectricWorkChain|run_numerical_derivatives]: launching NumericalDerivativesWorkChain<178> for computing numerical derivatives.\n",
      "05/24/2023 11:14:35 AM <4148633> aiida.engine.processes.functions: [WARNING] function `generate_preprocess_data` has invalid type hints: unsupported operand type(s) for |: 'AbstractNodeMeta' and 'NoneType'\n",
      "05/24/2023 11:14:35 AM <4148633> aiida.engine.processes.functions: [WARNING] function `generate_phonopy_data` has invalid type hints: unsupported operand type(s) for |: 'AbstractNodeMeta' and 'NoneType'\n",
      "05/24/2023 11:14:42 AM <4148633> aiida.orm.nodes.process.workflow.workchain.WorkChainNode: [REPORT] [98|DielectricWorkChain|on_terminated]: cleaned remote folders of calculations: 109 117 128 145 156 167\n"
     ]
    }
   ],
   "source": [
    "from aiida.plugins import WorkflowFactory\n",
    "from aiida.engine import run_get_node\n",
    "\n",
    "DielectricWorkChain = WorkflowFactory(\"vibroscopy.dielectric\")\n",
    "\n",
    "builder = DielectricWorkChain.get_builder_from_protocol(\n",
    "    code=data.pw_code,\n",
    "    structure=structure,\n",
    "    protocol=\"fast\",\n",
    "    overrides={\"property\":\"dielectric\"}\n",
    ")\n",
    "\n",
    "results, calc = run_get_node(builder)"
   ]
  },
  {
   "attachments": {},
   "cell_type": "markdown",
   "metadata": {},
   "source": [
    "These are the results:"
   ]
  },
  {
   "cell_type": "code",
   "execution_count": 4,
   "metadata": {},
   "outputs": [
    {
     "data": {
      "text/plain": [
       "{'critical_electric_field': <Float: uuid: 38a272fa-7624-470b-95d9-9a8fd72d3c3f (pk: 135) value: 0.00091230365735908>,\n",
       " 'electric_field_step': <Float: uuid: 4cdbe871-803c-4e00-9aa0-13c2c337ca3f (pk: 139) value: 0.00045615182867954>,\n",
       " 'fields_data': {'field_index_2': {'0': <TrajectoryData: uuid: fc58409c-8948-4ef6-b025-705ec01d80ac (pk: 160)>,\n",
       "   '1': <TrajectoryData: uuid: 24d8fb1c-0b1e-4e45-9b18-2f137e06ea51 (pk: 171)>}},\n",
       " 'tensors': AttributeDict({'numerical_accuracy_2_step_2': <ArrayData: uuid: 2edd1da2-69bd-44a9-b97a-d96cb6bf39de (pk: 182)>, 'numerical_accuracy_2_step_1': <ArrayData: uuid: 5866824b-274c-46d3-8bdf-8dbab1f2ef1d (pk: 183)>, 'numerical_accuracy_4': <ArrayData: uuid: a476ac2a-3992-47a6-80f6-f1f79c9340c3 (pk: 184)>})}"
      ]
     },
     "execution_count": 4,
     "metadata": {},
     "output_type": "execute_result"
    }
   ],
   "source": [
    "results"
   ]
  },
  {
   "attachments": {},
   "cell_type": "markdown",
   "metadata": {},
   "source": [
    "As you can see, we have a __tensors__ output. This is a _namespace_, meaning it contains more outputs. If we inspect it, we can see we have some other names, all starting with `numerical_accuracy_*`. This is because the workflow decided to use __more points__ (electric field steps) to have a better accuracy for the numerical differentiation. In this case, up to the 4th order accuracy is given, using the following formula:\n",
    "\n",
    "\\begin{equation}\n",
    "    \\left . \\frac{\\partial f(x)}{\\partial x} \\right|_{x=0}\n",
    "    =\n",
    "    \\frac{1}{12 h}\n",
    "    \\left [\n",
    "        -f(2h) +8f(h) -8f(-h) +f(-2h)\n",
    "    \\right ]\n",
    "    + \\mathcal{O}(h^4)\n",
    "\\end{equation}\n",
    "\n",
    "$f(h)$ will then be $\\mathbf{P}(\\delta \\mathbf(E))$, a three variable function computing three dimensional output; hence, we will get a matrix out of the differentiation. This expression goes as $\\mathcal{O}(h^4)$, meaning the numerical error due to the finite step will be _much smaller_ then with a second order formula. \n",
    "\n",
    "::: {important}\n",
    "Having computed the 4th order accuracy, one can compute also the 2nd order accuracy with the two external and two internal points!\n",
    "\n",
    "Have a look at the [finite difference coefficients](https://en.wikipedia.org/wiki/Finite_difference_coefficient) to convince yourself.\n",
    "\n",
    "This is extremely useful, as __one can check a posteriori__ the convergence in respect to finite size step.\n",
    ":::\n",
    "\n",
    "Let's print the results!"
   ]
  },
  {
   "cell_type": "code",
   "execution_count": 5,
   "metadata": {},
   "outputs": [
    {
     "name": "stdout",
     "output_type": "stream",
     "text": [
      "Numerical accuracy order 4:\n",
      "[[11.08489  0.       0.     ]\n",
      " [-0.      11.08489  0.     ]\n",
      " [ 0.      -0.      11.08489]] \n",
      "\n",
      "Numerical accuracy order 2 (inner points):\n",
      "[[11.08526  0.       0.     ]\n",
      " [-0.      11.08526  0.     ]\n",
      " [ 0.      -0.      11.08526]] \n",
      "\n",
      "Numerical accuracy order 2 (external points):\n",
      "[[11.0864 -0.      0.    ]\n",
      " [ 0.     11.0864  0.    ]\n",
      " [-0.     -0.     11.0864]]\n"
     ]
    }
   ],
   "source": [
    "print(\"Numerical accuracy order 4:\")\n",
    "print(calc.outputs.tensors.numerical_accuracy_4.get_array(\"dielectric\").round(5), \"\\n\")\n",
    "print(\"Numerical accuracy order 2 (inner points):\")\n",
    "print(calc.outputs.tensors.numerical_accuracy_2_step_1.get_array(\"dielectric\").round(5), \"\\n\")\n",
    "print(\"Numerical accuracy order 2 (external points):\")\n",
    "print(calc.outputs.tensors.numerical_accuracy_2_step_2.get_array(\"dielectric\").round(5))"
   ]
  },
  {
   "attachments": {},
   "cell_type": "markdown",
   "metadata": {},
   "source": [
    "We can conclude the 2nd order accuracy is accurate till the third digit, much more accurate then the convergence error!"
   ]
  },
  {
   "cell_type": "code",
   "execution_count": 6,
   "metadata": {},
   "outputs": [
    {
     "name": "stdout",
     "output_type": "stream",
     "text": [
      "The estimated critical electric field step:  0.00091230365735908\n",
      "The electric field step:  0.00045615182867954\n"
     ]
    }
   ],
   "source": [
    "print(\"The estimated critical electric field step: \", calc.outputs.critical_electric_field.value)\n",
    "print(\"The electric field step: \", calc.outputs.electric_field_step.value)"
   ]
  },
  {
   "attachments": {},
   "cell_type": "markdown",
   "metadata": {},
   "source": [
    "## Analysing the workflow\n",
    "\n",
    "Many things happened for computing this dielectric tensor. Let's inspect the process tree."
   ]
  },
  {
   "cell_type": "code",
   "execution_count": 7,
   "metadata": {},
   "outputs": [
    {
     "name": "stdout",
     "output_type": "stream",
     "text": [
      "\u001b[22mDielectricWorkChain<98> Finished [0] [11:results]\n",
      "    ├── create_kpoints_from_distance<99> Finished [0]\n",
      "    ├── create_directional_kpoints<102> Finished [0]\n",
      "    ├── PwBaseWorkChain<106> Finished [0] [3:results]\n",
      "    │   ├── PwCalculation<109> Finished [0]\n",
      "    │   └── PwCalculation<117> Finished [0]\n",
      "    ├── PwBaseWorkChain<125> Finished [0] [3:results]\n",
      "    │   └── PwCalculation<128> Finished [0]\n",
      "    ├── compute_critical_electric_field<134> Finished [0]\n",
      "    ├── get_accuracy_from_critical_field<136> Finished [0]\n",
      "    ├── get_electric_field_step<138> Finished [0]\n",
      "    ├── PwBaseWorkChain<142> Finished [0] [3:results]\n",
      "    │   └── PwCalculation<145> Finished [0]\n",
      "    ├── PwBaseWorkChain<153> Finished [0] [3:results]\n",
      "    │   └── PwCalculation<156> Finished [0]\n",
      "    ├── PwBaseWorkChain<164> Finished [0] [3:results]\n",
      "    │   └── PwCalculation<167> Finished [0]\n",
      "    ├── subtract_residual_forces<175> Finished [0]\n",
      "    └── NumericalDerivativesWorkChain<178> Finished [0] [None]\n",
      "        ├── generate_preprocess_data<179> Finished [0]\n",
      "        └── compute_nac_parameters<181> Finished [0]\u001b[0m\n"
     ]
    }
   ],
   "source": [
    "%verdi process status {calc.pk}"
   ]
  },
  {
   "attachments": {},
   "cell_type": "markdown",
   "metadata": {},
   "source": [
    "Here the explanation:\n",
    "\n",
    "1. The k points grids for SCF and electric field are generated.\n",
    "2. A _base_ ground-state calculation is performed via a {{ pwbase }}. This will be used in the following as _starting point_ for all the electric field steps.\n",
    "3. An NSCF is performed to evaluate the band gap of the material.\n",
    "4. The _critical electric field_ is evaluated.\n",
    "5. From this estimate, the numerical accuracy (i.e. number of points) and the electric field step are extrapolated. The accuracy is 4, the value of the field is $\\approx 5\\cdot 10^{-4}$ Ry atomic units (1 Ry a.u. $\\approx$ $36.3609 \\cdot 10^{10}$ V/m).\n",
    "6. A ground-state elecrtric field with $\\mathcal{E}=0$ is performed for each inequivalent k point grid.\n",
    "7. Once finished, SCF with electric field $\\mathcal{E}=\\delta \\mathbf{E}$ are run, restarting from the previous calculations.\n",
    "8. Once finished, SCF with electric field $\\mathcal{E}=2 \\delta \\mathbf{E}$ are run, restarting from the previous calculations.\n",
    "9. The numerical derivatives are performed, and tensors are stored.\n",
    "\n",
    "::: {admonition} Can you explain why only one direction?\n",
    ":class: hint, dropdown\n",
    "\n",
    "We used symmetries to reduce the number of directions to compute. In materials, we can exploit the fact that different operations are connected by symmetry. As an example, if we have inversion symmetry, it holds (for a one dimensional function):\n",
    "\n",
    "\\begin{equation}\n",
    " f(x) = -f(-x)\n",
    "\\end{equation}\n",
    "\n",
    "Thus, we would save one calculation. In silicon, we have only one symmetrically inequivalent direction, thanks to its very symmetric point group. The power of symmetries!\n",
    ":::\n",
    "\n",
    "You can also inspect this data to convince yourself."
   ]
  },
  {
   "cell_type": "code",
   "execution_count": 8,
   "metadata": {},
   "outputs": [
    {
     "data": {
      "text/plain": [
       "AttributeDict({'field_index_2': AttributeDict({'0': <TrajectoryData: uuid: fc58409c-8948-4ef6-b025-705ec01d80ac (pk: 160)>, '1': <TrajectoryData: uuid: 24d8fb1c-0b1e-4e45-9b18-2f137e06ea51 (pk: 171)>})})"
      ]
     },
     "execution_count": 8,
     "metadata": {},
     "output_type": "execute_result"
    }
   ],
   "source": [
    "calc.outputs.fields_data"
   ]
  },
  {
   "attachments": {},
   "cell_type": "markdown",
   "metadata": {},
   "source": [
    "## Born effective charges\n",
    "\n",
    "With this method, we can also compute the Born effective charges $Z^*$. They are the derivatives of the forces in respect to electric fields, in contrast with the polarization for the dielectric tensor. In the case of silicon, as this is a homopolar material, they will be _zero_, as you can verify. In the [tutorial on AlAs](4_polar), you will calculate non zero BEC!"
   ]
  },
  {
   "cell_type": "code",
   "execution_count": 9,
   "metadata": {},
   "outputs": [
    {
     "data": {
      "text/plain": [
       "array([[[ 0., -0., -0.],\n",
       "        [-0., -0., -0.],\n",
       "        [ 0., -0., -0.]],\n",
       "\n",
       "       [[ 0., -0.,  0.],\n",
       "        [-0.,  0., -0.],\n",
       "        [ 0., -0.,  0.]],\n",
       "\n",
       "       [[-0., -0., -0.],\n",
       "        [ 0., -0.,  0.],\n",
       "        [-0., -0., -0.]],\n",
       "\n",
       "       [[-0., -0., -0.],\n",
       "        [ 0.,  0., -0.],\n",
       "        [-0.,  0.,  0.]],\n",
       "\n",
       "       [[-0.,  0.,  0.],\n",
       "        [ 0., -0.,  0.],\n",
       "        [ 0.,  0.,  0.]],\n",
       "\n",
       "       [[-0.,  0.,  0.],\n",
       "        [ 0.,  0., -0.],\n",
       "        [ 0., -0., -0.]],\n",
       "\n",
       "       [[ 0.,  0., -0.],\n",
       "        [-0., -0., -0.],\n",
       "        [-0., -0., -0.]],\n",
       "\n",
       "       [[ 0., -0.,  0.],\n",
       "        [ 0.,  0.,  0.],\n",
       "        [-0.,  0., -0.]]])"
      ]
     },
     "execution_count": 9,
     "metadata": {},
     "output_type": "execute_result"
    }
   ],
   "source": [
    "calc.outputs.tensors.numerical_accuracy_4.get_array(\"born_charges\").round(5)"
   ]
  },
  {
   "attachments": {},
   "cell_type": "markdown",
   "metadata": {},
   "source": [
    "## Convergence with k points\n",
    "\n",
    "As a final remark, we show here how the convergence with k points is speeded up by sampling in this _directional_ manner, compared to the most 'traditional' uniform mesh. "
   ]
  },
  {
   "cell_type": "code",
   "execution_count": 10,
   "metadata": {
    "tags": [
     "hide-input"
    ]
   },
   "outputs": [
    {
     "data": {
      "text/plain": [
       "<matplotlib.legend.Legend at 0x7feaa4445d30>"
      ]
     },
     "execution_count": 10,
     "metadata": {},
     "output_type": "execute_result"
    },
    {
     "data": {
      "image/png": "[encoded data removed]",
      "text/plain": [
       "<Figure size 468x360 with 1 Axes>"
      ]
     },
     "metadata": {
      "needs_background": "light"
     },
     "output_type": "display_data"
    }
   ],
   "source": [
    "import numpy as np\n",
    "import matplotlib.pyplot as plt\n",
    "\n",
    "# Some options to make the plot nice\n",
    "plt.rcParams['font.size'] = 18\n",
    "plt.rcParams['font.family'] = \"serif\"\n",
    "plt.rcParams['text.usetex'] = False\n",
    "plt.rcParams['xtick.major.size'] = 7.0\n",
    "plt.rcParams['xtick.minor.size'] = 4.\n",
    "plt.rcParams['ytick.major.size'] = 7.0\n",
    "plt.rcParams['ytick.minor.size'] = 4.\n",
    "plt.rcParams['axes.linewidth'] = 1.2\n",
    "plt.rcParams['legend.fontsize'] = 15\n",
    "\n",
    "# Directional sampling\n",
    "diel_new = np.array([12.333, 12.983, 13.182, 13.207])\n",
    "kpoints_new = np.array([3*3*6, 3*3*12, 3*3*24, 3*3*58])\n",
    "\n",
    "# Uniform sampling\n",
    "diel = np.array([10.744, 12.369, 13.009])\n",
    "kpoints = np.array([3*3*3, 6*6*6, 12*12*12])\n",
    "\n",
    "# Plotting\n",
    "fig, ax = plt.subplots(figsize=(6.5,5)) # dichiaro il canvas e i subplots    \n",
    "\n",
    "ax.plot(kpoints_new, diel_new, color='red', marker='o', fillstyle='none', ms=10, linewidth=1.5, linestyle='-', label='Directional sampling')  \n",
    "ax.plot(kpoints, diel, color='black', marker='o', fillstyle='none', ms=10, linewidth=1.5, linestyle='-', label='Uniform sampling')  \n",
    "ax.set_xlabel('# k points')  \n",
    "ax.set_ylabel(r'$\\epsilon^{\\infty}$')\n",
    "ax.axhline(13.241, color='grey', linestyle='--', linewidth=1.5)\n",
    "ax.legend(bbox_to_anchor=(0., 1.02, 1., .102), loc='lower left',\n",
    "           ncol=1, mode=\"expand\", borderaxespad=0., frameon=False)\n",
    "\n",
    "# plt.show()"
   ]
  },
  {
   "attachments": {},
   "cell_type": "markdown",
   "metadata": {},
   "source": [
    "## Final considerations\n",
    "\n",
    "We managed to compute the dielectric tensor of silicon __fully__ ___ab initio___! :tada:\n",
    "\n",
    ":::{admonition} Learn more and in details\n",
    ":class: hint\n",
    "\n",
    "To learn the full sets of inputs, to use proficiently the `get_builder_from_protocol` and more, have a look at the following sections:\n",
    "- [Specific how tos](howto/workflows/dielectric/base.md)\n",
    "- [General information of the implemented workchain](topics/workflows/dielectric/base.md)"
   ]
  }
 ],
 "metadata": {
  "kernelspec": {
   "display_name": "base",
   "language": "python",
   "name": "python3"
  },
  "language_info": {
   "codemirror_mode": {
    "name": "ipython",
    "version": 3
   },
   "file_extension": ".py",
   "mimetype": "text/x-python",
   "name": "python",
   "nbconvert_exporter": "python",
   "pygments_lexer": "ipython3",
   "version": "3.8.16"
  },
  "orig_nbformat": 4,
  "vscode": {
   "interpreter": {
    "hash": "d4d1e4263499bec80672ea0156c357c1ee493ec2b1c70f0acce89fc37c4a6abe"
   }
  }
 },
 "nbformat": 4,
 "nbformat_minor": 2
}
