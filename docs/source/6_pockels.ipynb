{
 "cells": [
  {
   "attachments": {},
   "cell_type": "markdown",
   "metadata": {},
   "source": [
    "\n",
    "(tutorials-functionals)=\n",
    "\n",
    "# Clamped Pockels tensor of AlAs\n",
    "\n",
    "In this tutorial you will learn how to calculate the clamped Pockels tensor using `aiida-vibroscopy`.\n",
    "\n",
    "For the demonstration, we will make use of AlAs, a non-centrosymmetric semiconductor material.\n",
    "\n",
    "Let's get started!"
   ]
  },
  {
   "cell_type": "markdown",
   "metadata": {},
   "source": [
    "## Pockels tensor formalism\n",
    "\n",
    "The Pockels effect in a linear electro-optic effect relating an external electric field $\\mathcal{E}_k$ modulation to a change in refractive index $n_{ij}$ in a non-centrosymmetric material. The Pockels tensor $r_{ijk}$ is defined within the formalism of the index ellipsoid as\n",
    "\n",
    "\\begin{equation}\n",
    "    \\Delta \\Bigg(\\frac{1}{n_{ij}^2} \\Bigg)\n",
    "    =\n",
    "    \\sum_{k=1}^3 r_{ijk} \\mathcal{E}_k\n",
    "\\end{equation}\n",
    "\n",
    "where indices $i$, $j$, and $k$ represent the polarizations (in a Cartesian basis) of the incoming optical field, the outgoing optical field, and the modulating electrical field, respectively.\n",
    "\n",
    "The Pockels tensor is a function of electric field, atomic positions, and lattice strains. Vibroscopy computes the clamped contribution to $r_{ijk}$ only, thus neglecting the lattice strains contributions. This approximation is valid for electric field modulations that exceed lattice resonance frequencies. In such case, $r_{ijk}$ can be written as $r_{ijk}^{el} + r_{ijk}^{ion}$, i.e., a __high-frequency__ (electronic) and a __phonon contribution__ (ionic)\n",
    "\n",
    "\\begin{equation}\n",
    "    r_{ijk}^{el} + r_{ijk}^{ion} \n",
    "    = \n",
    "    -\\frac{2}{n_{ii}^2 n_{jj}^2} \\chi_{ijk}^{(2)} \n",
    "    - \\frac{1}{n_{ii}^2 n_{jj}^2} \\sum_m \\frac{\\alpha_{ij}^m p_{m,k}}{\\omega_m^2}\n",
    "\\end{equation}\n",
    "\n",
    "where $\\chi_{ijk}^{(2)}$ is the DC-field second-order dielectric susceptibility. The $\\alpha_{ij}^m$ variable is the Raman susceptibility tensor associated with phonon mode $m$. It is calculated as \n",
    "\n",
    "\\begin{equation}\n",
    "    \\alpha_{ij}^m\n",
    "    =\n",
    "    \\sum_{\\kappa, \\beta} \\frac{\\partial \\chi_{ij}^{(1)}}{\\partial \\tau_{\\kappa, \\beta}} u_m(\\kappa, \\beta)\n",
    "\\end{equation}\n",
    "\n",
    "where $\\frac{\\partial \\chi_{ij}^{(1)}}{\\partial \\tau_{\\kappa, \\beta}}$ is the Raman tensor introduced in [the tutorial on vibrational spectra](3_iraman) and $u_m(\\kappa, \\beta)$ is the eigenvector associated with atom $\\kappa$ and polarization direction $\\beta$. The mode polarity $p_{m, k}$ is calculated as \n",
    "\n",
    "\\begin{equation}\n",
    "    p_{m,k}\n",
    "    =\n",
    "    \\sum_{\\kappa, \\beta} Z_{\\kappa, k \\beta}^* u_m(\\kappa, \\beta)\n",
    "\\end{equation}\n",
    "\n",
    "with the Born effective charges $Z_{\\kappa, k \\beta}^*$ introduced in [the tutorial on dielectric tensor calculations](2_dielectric).\n",
    "\n",
    "::: {note}\n",
    "The Pockels formalism was originally developed in the late 60s, however its implementation in Vibroscopy is based on the successive work of Veithen \\textit{et al.}. See:\n",
    "\n",
    "- Johnston Jr, W.D., Phys. Rev. B, __1.8__, 3494 (__1970__)\n",
    "- Veithen, M., Xavier Gonze, and Ph Ghosez, Phys. Rev. B, __71.12__, 125107 (__2005__)\n",
    ":::\n",
    "\n",
    "Attention! The __non-analytical constants__ (NAC) should be accounted for whenever polar materials are investigated (refer to [the tutorial on phonon and dielectric properties of AlAs](4_polar))."
   ]
  },
  {
   "cell_type": "code",
   "execution_count": 1,
   "metadata": {
    "tags": [
     "hide-cell"
    ]
   },
   "outputs": [],
   "source": [
    "from local_module import load_temp_profile\n",
    "\n",
    "# If you download this file, you can run it with your own profile.\n",
    "# Put these lines instead:\n",
    "# from aiida import load_profile\n",
    "# load_profile()\n",
    "data = load_temp_profile(\n",
    "    name=\"clamped-Pockels-tutorial\",\n",
    "    add_computer=True,\n",
    "    add_pw_code=True,\n",
    "    add_sssp=True,\n",
    ")"
   ]
  },
  {
   "attachments": {},
   "cell_type": "markdown",
   "metadata": {},
   "source": [
    "## Importing the structure from COD\n",
    "\n",
    "Let's import the AlAs structure from the COD database via AiiDA."
   ]
  },
  {
   "cell_type": "code",
   "execution_count": 5,
   "metadata": {},
   "outputs": [],
   "source": [
    "from struct import Struct\n",
    "from aiida.plugins import DbImporterFactory\n",
    "from aiida.plugins import DataFactory\n",
    "\n",
    "CodDbImporter = DbImporterFactory('cod')\n",
    "\n",
    "cod = CodDbImporter()\n",
    "results = cod.query(id='1540257') # AlAs 1540257\n",
    "structure = results[0].get_aiida_structure() # it has 8 atoms"
   ]
  },
  {
   "attachments": {},
   "cell_type": "markdown",
   "metadata": {},
   "source": [
    "\n",
    "## Running the `IRamanSpectraWorkChain`\n",
    "\n",
    "Let's import the WorkChain and run it!\n",
    "\n",
    "As usual, we use the `get_builder_from_protocol` to get a __prefilled__ builder with __all inputs__. These inputs should be considered __not as converged parameters__, but as a good starting point. You may also need to tweak some parameters, e.g. add magnetization etc., depending on your case. "
   ]
  },
  {
   "cell_type": "code",
   "execution_count": 3,
   "metadata": {
    "tags": [
     "hide-output"
    ]
   },
   "outputs": [
    {
     "name": "stderr",
     "output_type": "stream",
     "text": [
      "02/17/2025 03:08:23 PM <3130812> aiida.orm.nodes.process.workflow.workchain.WorkChainNode: [REPORT] [106|IRamanSpectraWorkChain|run_spectra]: submitting `HarmonicWorkChain` <PK=108>\n",
      "02/17/2025 03:08:23 PM <3130812> aiida.engine.processes.functions: [WARNING] function `generate_preprocess_data` has invalid type hints: unsupported operand type(s) for |: 'AbstractNodeMeta' and 'NoneType'\n",
      "02/17/2025 03:08:23 PM <3130812> aiida.engine.processes.functions: [WARNING] function `generate_phonopy_data` has invalid type hints: unsupported operand type(s) for |: 'AbstractNodeMeta' and 'NoneType'\n",
      "02/17/2025 03:08:23 PM <3130812> aiida.orm.nodes.process.workflow.workchain.WorkChainNode: [REPORT] [108|HarmonicWorkChain|run_phonon]: submitting `PhononWorkChain` <PK=111>\n",
      "02/17/2025 03:08:23 PM <3130812> aiida.orm.nodes.process.workflow.workchain.WorkChainNode: [REPORT] [108|HarmonicWorkChain|run_dielectric]: submitting `DielectricWorkChain` <PK=112>\n",
      "02/17/2025 03:08:24 PM <3130812> aiida.orm.nodes.process.workflow.workchain.WorkChainNode: [REPORT] [112|DielectricWorkChain|run_base_scf]: launching base scf PwBaseWorkChain<125>\n",
      "02/17/2025 03:08:24 PM <3130812> aiida.orm.nodes.process.workflow.workchain.WorkChainNode: [REPORT] [125|PwBaseWorkChain|run_process]: launching PwCalculation<129> iteration #1\n",
      "02/17/2025 03:08:25 PM <3130812> aiida.orm.nodes.process.workflow.workchain.WorkChainNode: [REPORT] [111|PhononWorkChain|run_base_supercell]: launching base supercell scf PwBaseWorkChain<134>\n",
      "02/17/2025 03:08:25 PM <3130812> aiida.orm.nodes.process.workflow.workchain.WorkChainNode: [REPORT] [134|PwBaseWorkChain|run_process]: launching PwCalculation<137> iteration #1\n",
      "02/17/2025 03:08:35 PM <3130812> aiida.orm.nodes.process.workflow.workchain.WorkChainNode: [REPORT] [134|PwBaseWorkChain|results]: work chain completed after 1 iterations\n",
      "02/17/2025 03:08:35 PM <3130812> aiida.orm.nodes.process.workflow.workchain.WorkChainNode: [REPORT] [134|PwBaseWorkChain|on_terminated]: remote folders will not be cleaned\n",
      "02/17/2025 03:08:36 PM <3130812> aiida.orm.nodes.process.workflow.workchain.WorkChainNode: [REPORT] [111|PhononWorkChain|run_forces]: submitting `PwBaseWorkChain` <PK=152> with supercell n.o 1\n",
      "02/17/2025 03:08:37 PM <3130812> aiida.orm.nodes.process.workflow.workchain.WorkChainNode: [REPORT] [111|PhononWorkChain|run_forces]: submitting `PwBaseWorkChain` <PK=154> with supercell n.o 2\n",
      "02/17/2025 03:08:38 PM <3130812> aiida.orm.nodes.process.workflow.workchain.WorkChainNode: [REPORT] [152|PwBaseWorkChain|run_process]: launching PwCalculation<157> iteration #1\n",
      "02/17/2025 03:08:38 PM <3130812> aiida.orm.nodes.process.workflow.workchain.WorkChainNode: [REPORT] [154|PwBaseWorkChain|run_process]: launching PwCalculation<160> iteration #1\n",
      "02/17/2025 03:08:39 PM <3130812> aiida.orm.nodes.process.workflow.workchain.WorkChainNode: [REPORT] [125|PwBaseWorkChain|results]: work chain completed after 1 iterations\n",
      "02/17/2025 03:08:39 PM <3130812> aiida.orm.nodes.process.workflow.workchain.WorkChainNode: [REPORT] [125|PwBaseWorkChain|on_terminated]: remote folders will not be cleaned\n",
      "02/17/2025 03:08:40 PM <3130812> aiida.orm.nodes.process.workflow.workchain.WorkChainNode: [REPORT] [112|DielectricWorkChain|run_nscf]: launching base scf PwBaseWorkChain<165>\n",
      "02/17/2025 03:08:40 PM <3130812> aiida.orm.nodes.process.workflow.workchain.WorkChainNode: [REPORT] [165|PwBaseWorkChain|run_process]: launching PwCalculation<168> iteration #1\n",
      "02/17/2025 03:08:49 PM <3130812> aiida.orm.nodes.process.workflow.workchain.WorkChainNode: [REPORT] [165|PwBaseWorkChain|results]: work chain completed after 1 iterations\n",
      "02/17/2025 03:08:49 PM <3130812> aiida.orm.nodes.process.workflow.workchain.WorkChainNode: [REPORT] [165|PwBaseWorkChain|on_terminated]: remote folders will not be cleaned\n",
      "02/17/2025 03:08:51 PM <3130812> aiida.orm.nodes.process.workflow.workchain.WorkChainNode: [REPORT] [112|DielectricWorkChain|run_null_field_scfs]: launching PwBaseWorkChain<182> with null electric field 0\n",
      "02/17/2025 03:08:51 PM <3130812> aiida.orm.nodes.process.workflow.workchain.WorkChainNode: [REPORT] [112|DielectricWorkChain|run_null_field_scfs]: launching PwBaseWorkChain<183> with null electric field 1\n",
      "02/17/2025 03:08:51 PM <3130812> aiida.orm.nodes.process.workflow.workchain.WorkChainNode: [REPORT] [182|PwBaseWorkChain|run_process]: launching PwCalculation<186> iteration #1\n",
      "02/17/2025 03:08:51 PM <3130812> aiida.orm.nodes.process.workflow.workchain.WorkChainNode: [REPORT] [183|PwBaseWorkChain|run_process]: launching PwCalculation<189> iteration #1\n",
      "02/17/2025 03:08:54 PM <3130812> aiida.orm.nodes.process.workflow.workchain.WorkChainNode: [REPORT] [152|PwBaseWorkChain|results]: work chain completed after 1 iterations\n",
      "02/17/2025 03:08:54 PM <3130812> aiida.orm.nodes.process.workflow.workchain.WorkChainNode: [REPORT] [152|PwBaseWorkChain|on_terminated]: cleaned remote folders of calculations: 157\n",
      "02/17/2025 03:08:54 PM <3130812> aiida.orm.nodes.process.workflow.workchain.WorkChainNode: [REPORT] [154|PwBaseWorkChain|results]: work chain completed after 1 iterations\n",
      "02/17/2025 03:08:54 PM <3130812> aiida.orm.nodes.process.workflow.workchain.WorkChainNode: [REPORT] [154|PwBaseWorkChain|on_terminated]: cleaned remote folders of calculations: 160\n",
      "02/17/2025 03:08:55 PM <3130812> aiida.orm.nodes.process.workflow.workchain.WorkChainNode: [REPORT] [111|PhononWorkChain|on_terminated]: cleaned remote folders of calculations: 137 157 160\n",
      "02/17/2025 03:09:09 PM <3130812> aiida.orm.nodes.process.workflow.workchain.WorkChainNode: [REPORT] [182|PwBaseWorkChain|results]: work chain completed after 1 iterations\n",
      "02/17/2025 03:09:09 PM <3130812> aiida.orm.nodes.process.workflow.workchain.WorkChainNode: [REPORT] [182|PwBaseWorkChain|on_terminated]: remote folders will not be cleaned\n",
      "02/17/2025 03:09:13 PM <3130812> aiida.orm.nodes.process.workflow.workchain.WorkChainNode: [REPORT] [183|PwBaseWorkChain|results]: work chain completed after 1 iterations\n",
      "02/17/2025 03:09:13 PM <3130812> aiida.orm.nodes.process.workflow.workchain.WorkChainNode: [REPORT] [183|PwBaseWorkChain|on_terminated]: remote folders will not be cleaned\n",
      "02/17/2025 03:09:14 PM <3130812> aiida.orm.nodes.process.workflow.workchain.WorkChainNode: [REPORT] [112|DielectricWorkChain|run_electric_field_scfs]: launching PwBaseWorkChain<213> with electric field index 2 and sign 1.0 iteration #0\n",
      "02/17/2025 03:09:15 PM <3130812> aiida.orm.nodes.process.workflow.workchain.WorkChainNode: [REPORT] [112|DielectricWorkChain|run_electric_field_scfs]: launching PwBaseWorkChain<216> with electric field index 3 and sign 1.0 iteration #0\n",
      "02/17/2025 03:09:16 PM <3130812> aiida.orm.nodes.process.workflow.workchain.WorkChainNode: [REPORT] [213|PwBaseWorkChain|run_process]: launching PwCalculation<219> iteration #1\n",
      "02/17/2025 03:09:17 PM <3130812> aiida.orm.nodes.process.workflow.workchain.WorkChainNode: [REPORT] [216|PwBaseWorkChain|run_process]: launching PwCalculation<222> iteration #1\n",
      "02/17/2025 03:09:41 PM <3130812> aiida.orm.nodes.process.workflow.workchain.WorkChainNode: [REPORT] [213|PwBaseWorkChain|results]: work chain completed after 1 iterations\n",
      "02/17/2025 03:09:41 PM <3130812> aiida.orm.nodes.process.workflow.workchain.WorkChainNode: [REPORT] [213|PwBaseWorkChain|on_terminated]: remote folders will not be cleaned\n",
      "02/17/2025 03:09:44 PM <3130812> aiida.orm.nodes.process.workflow.workchain.WorkChainNode: [REPORT] [216|PwBaseWorkChain|results]: work chain completed after 1 iterations\n",
      "02/17/2025 03:09:44 PM <3130812> aiida.orm.nodes.process.workflow.workchain.WorkChainNode: [REPORT] [216|PwBaseWorkChain|on_terminated]: remote folders will not be cleaned\n",
      "02/17/2025 03:09:45 PM <3130812> aiida.orm.nodes.process.workflow.workchain.WorkChainNode: [REPORT] [112|DielectricWorkChain|run_electric_field_scfs]: launching PwBaseWorkChain<235> with electric field index 2 and sign 1.0 iteration #1\n",
      "02/17/2025 03:09:46 PM <3130812> aiida.orm.nodes.process.workflow.workchain.WorkChainNode: [REPORT] [112|DielectricWorkChain|run_electric_field_scfs]: launching PwBaseWorkChain<238> with electric field index 3 and sign 1.0 iteration #1\n",
      "02/17/2025 03:09:47 PM <3130812> aiida.orm.nodes.process.workflow.workchain.WorkChainNode: [REPORT] [235|PwBaseWorkChain|run_process]: launching PwCalculation<241> iteration #1\n",
      "02/17/2025 03:09:48 PM <3130812> aiida.orm.nodes.process.workflow.workchain.WorkChainNode: [REPORT] [238|PwBaseWorkChain|run_process]: launching PwCalculation<244> iteration #1\n",
      "02/17/2025 03:10:13 PM <3130812> aiida.orm.nodes.process.workflow.workchain.WorkChainNode: [REPORT] [235|PwBaseWorkChain|results]: work chain completed after 1 iterations\n",
      "02/17/2025 03:10:13 PM <3130812> aiida.orm.nodes.process.workflow.workchain.WorkChainNode: [REPORT] [235|PwBaseWorkChain|on_terminated]: remote folders will not be cleaned\n",
      "02/17/2025 03:10:17 PM <3130812> aiida.orm.nodes.process.workflow.workchain.WorkChainNode: [REPORT] [238|PwBaseWorkChain|results]: work chain completed after 1 iterations\n",
      "02/17/2025 03:10:17 PM <3130812> aiida.orm.nodes.process.workflow.workchain.WorkChainNode: [REPORT] [238|PwBaseWorkChain|on_terminated]: remote folders will not be cleaned\n",
      "02/17/2025 03:10:18 PM <3130812> aiida.orm.nodes.process.workflow.workchain.WorkChainNode: [REPORT] [112|DielectricWorkChain|run_numerical_derivatives]: launching NumericalDerivativesWorkChain<262> for computing numerical derivatives.\n",
      "/home/vdemestral/.conda/envs/aiida/lib/python3.9/site-packages/aiida_vibroscopy/calculations/symmetry.py:164: UserWarning: Symmetry of dChi/dr tensors is largely broken. \n",
      "The max difference is:\n",
      "22.88281777626398\n",
      "  warnings.warn('\\n'.join(lines))\n",
      "/home/vdemestral/.conda/envs/aiida/lib/python3.9/site-packages/aiida_vibroscopy/calculations/symmetry.py:164: UserWarning: Symmetry of dChi/dr tensors is largely broken. \n",
      "The max difference is:\n",
      "94.61659485017016\n",
      "  warnings.warn('\\n'.join(lines))\n",
      "/home/vdemestral/.conda/envs/aiida/lib/python3.9/site-packages/aiida_vibroscopy/calculations/symmetry.py:164: UserWarning: Symmetry of dChi/dr tensors is largely broken. \n",
      "The max difference is:\n",
      "118.52785387480554\n",
      "  warnings.warn('\\n'.join(lines))\n",
      "02/17/2025 03:10:21 PM <3130812> aiida.orm.nodes.process.workflow.workchain.WorkChainNode: [REPORT] [112|DielectricWorkChain|on_terminated]: cleaned remote folders of calculations: 129 168 186 189 219 222 241 244\n",
      "02/17/2025 03:10:24 PM <3130812> aiida.orm.nodes.process.workflow.workchain.WorkChainNode: [REPORT] [108|HarmonicWorkChain|on_terminated]: cleaned remote folders of calculations: 137 157 160 129 168 186 189 219 222 241 244\n"
     ]
    }
   ],
   "source": [
    "from aiida.plugins import WorkflowFactory\n",
    "from aiida.engine import run_get_node\n",
    "from aiida_quantumespresso.common.types import ElectronicType\n",
    "\n",
    "\n",
    "PockelsWorkChain = WorkflowFactory(\"vibroscopy.spectra.iraman\")\n",
    "\n",
    "# To make the calculations run faster\n",
    "scf_overrides = {'scf':{'pw':{'parameters':{'SYSTEM':{'ecutwfc':30, 'ecutrho':30*8}}}}}\n",
    "\n",
    "builder = PockelsWorkChain.get_builder_from_protocol(\n",
    "    code=data.pw_code,\n",
    "    structure=structure,\n",
    "    protocol=\"fast\",\n",
    "    overrides={'dielectric':scf_overrides, 'phonon':scf_overrides},\n",
    "    kwargs = {'electronic_type' :ElectronicType.INSULATOR}\n",
    ")\n",
    "\n",
    "results, calc = run_get_node(builder)"
   ]
  },
  {
   "attachments": {},
   "cell_type": "markdown",
   "metadata": {},
   "source": [
    "## Retrieving the clamped Pockels results\n",
    "\n",
    "Let's print the clamped Pockels tensor `r_tot`, its electronic contribution `r_el`, and its ionic contribution `r_ion`."
   ]
  },
  {
   "cell_type": "code",
   "execution_count": null,
   "metadata": {},
   "outputs": [
    {
     "name": "stdout",
     "output_type": "stream",
     "text": [
      "Clamped Pockels tensor of AlAs in pm/V: \n",
      " [[[ 1.53752602e-33  2.90946317e-33 -2.39785550e-16]\n",
      "  [ 4.79163857e-18  7.46590258e-18 -7.45544968e-01]\n",
      "  [-2.01812781e-16 -7.45544968e-01 -8.20147106e-17]]\n",
      "\n",
      " [[ 4.79163857e-18  7.46590258e-18 -7.45544968e-01]\n",
      "  [-3.03295218e-34 -5.33931979e-36  2.05030576e-35]\n",
      "  [-7.45544968e-01  3.79727686e-17 -8.65112873e-17]]\n",
      "\n",
      " [[-2.01812781e-16 -7.45544968e-01 -8.20147106e-17]\n",
      "  [-7.45544968e-01  3.79727686e-17 -8.65112873e-17]\n",
      "  [-9.13029259e-17 -9.13029259e-17 -1.51415853e-32]]] \n",
      "\n",
      "Electronic contribution to r_tot in pm/V: \n",
      " [[[ 1.34602399e-49  4.19457216e-34 -3.91859101e-16]\n",
      "  [ 1.21842680e-33 -5.06591563e-34 -1.21837442e+00]\n",
      "  [-3.91859101e-16 -1.21837442e+00 -1.49207834e-16]]\n",
      "\n",
      " [[-7.97070907e-34 -8.44485320e-51 -1.21837442e+00]\n",
      "  [-5.06591563e-34  7.40312473e-84  5.07282275e-35]\n",
      "  [-1.21837442e+00  1.68958939e-50 -1.49207834e-16]]\n",
      "\n",
      " [[-3.91859101e-16 -1.21837442e+00 -1.49207834e-16]\n",
      "  [-1.21837442e+00  5.45255820e-35 -1.49207834e-16]\n",
      "  [-1.49207834e-16 -1.49207834e-16 -2.74090344e-32]]] \n",
      "\n",
      "Ionic contribution to r_tot in pm/V: \n",
      " [[[ 1.53752602e-33  2.90946317e-33 -2.39785550e-16]\n",
      "  [ 4.79163857e-18  7.46590258e-18 -7.45544968e-01]\n",
      "  [-2.01812781e-16 -7.45544968e-01 -8.20147106e-17]]\n",
      "\n",
      " [[ 4.79163857e-18  7.46590258e-18 -7.45544968e-01]\n",
      "  [-3.03295218e-34 -5.33931979e-36  2.05030576e-35]\n",
      "  [-7.45544968e-01  3.79727686e-17 -8.65112873e-17]]\n",
      "\n",
      " [[-2.01812781e-16 -7.45544968e-01 -8.20147106e-17]\n",
      "  [-7.45544968e-01  3.79727686e-17 -8.65112873e-17]\n",
      "  [-9.13029259e-17 -9.13029259e-17 -1.51415853e-32]]] \n",
      "\n"
     ]
    }
   ],
   "source": [
    "vibro = calc.outputs.vibrational_data.numerical_accuracy_4\n",
    "r_tot, r_el, r_ion = vibro.run_clamped_pockels_tensor()\n",
    "print('Clamped Pockels tensor (r_tot) of AlAs in pm/V: \\n', r_tot, '\\n')\n",
    "print('Electronic contribution to r_tot in pm/V: \\n', r_el, '\\n')\n",
    "print('Ionic contribution to r_tot in pm/V: \\n', r_tot, '\\n')"
   ]
  },
  {
   "cell_type": "markdown",
   "metadata": {},
   "source": [
    "Due to symmetry (AlAs belongs to space group number 216), we obtain $-0.76$ pm/V for each $r_{123} = r_{132} = r_{213} = r_{231} = r_{321} = r_{312}$ clamped Pockels coefficient. This value is very small and of negligible interest for practical opto-electronic applications - hence the lack of available experimental data, as far as we know. We chose AlAs for the sake of running this tutorial within a reasonable amount of time. However, once you get the hang of it, you can go on and study more relevant materials.\n",
    "\n",
    "::: {warning}\n",
    "In the literature, it is common to refer to Pockels coefficients using the Voigt notation, where the first two indices are contracted as follows: $11 \\rightarrow 1$, $22 \\rightarrow 2$, $33 \\rightarrow 3$, $23 = 32 \\rightarrow 4$, $31 = 13 \\rightarrow 5$, and $12 = 21 \\rightarrow 6$. For AlAs for instance, $r_{123} = r_{63}$, $r_{132} = r_{52}$, ...\n",
    ":::"
   ]
  },
  {
   "cell_type": "markdown",
   "metadata": {},
   "source": [
    "You will soon be able to find more detailed information about the clamped Pockels tensor calculation, its implementation in Vibroscopy, and a practical example on the tetragonal phase of barium titanate. We'll keep you updated about our paper release!"
   ]
  }
 ],
 "metadata": {
  "kernelspec": {
   "display_name": "Python 3",
   "language": "python",
   "name": "python3"
  },
  "language_info": {
   "codemirror_mode": {
    "name": "ipython",
    "version": 3
   },
   "file_extension": ".py",
   "mimetype": "text/x-python",
   "name": "python",
   "nbconvert_exporter": "python",
   "pygments_lexer": "ipython3",
   "version": "3.9.16"
  },
  "orig_nbformat": 4
 },
 "nbformat": 4,
 "nbformat_minor": 2
}
